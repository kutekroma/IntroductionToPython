{
 "cells": [
  {
   "cell_type": "code",
   "execution_count": 1,
   "id": "03c92ff8",
   "metadata": {},
   "outputs": [],
   "source": [
    "# Математические операторы"
   ]
  },
  {
   "cell_type": "code",
   "execution_count": 2,
   "id": "97312e48",
   "metadata": {},
   "outputs": [
    {
     "name": "stdout",
     "output_type": "stream",
     "text": [
      "4.0 <class 'float'>\n"
     ]
    }
   ],
   "source": [
    "# Деление - результатом является вещественное число (float)\n",
    "d = 8 / 2\n",
    "print(d, type(d))"
   ]
  },
  {
   "cell_type": "code",
   "execution_count": 1,
   "id": "cc888136",
   "metadata": {},
   "outputs": [
    {
     "name": "stdout",
     "output_type": "stream",
     "text": [
      "2.0 <class 'float'>\n"
     ]
    }
   ],
   "source": [
    "a: int = 12\n",
    "b: int = 6\n",
    "d = a / b\n",
    "print(d, type(d))"
   ]
  },
  {
   "cell_type": "code",
   "execution_count": 5,
   "id": "87bbc7c0",
   "metadata": {},
   "outputs": [
    {
     "name": "stdout",
     "output_type": "stream",
     "text": [
      "1 <class 'int'>\n"
     ]
    }
   ],
   "source": [
    "# Целочисленное деление (остаток отбрасывается)\n",
    "a: int = 12\n",
    "b: int = 7\n",
    "d = a // b\n",
    "print(d, type(d))"
   ]
  },
  {
   "cell_type": "code",
   "execution_count": 6,
   "id": "375416b6",
   "metadata": {},
   "outputs": [
    {
     "name": "stdout",
     "output_type": "stream",
     "text": [
      "5 <class 'int'>\n"
     ]
    }
   ],
   "source": [
    "# Вычисление остатка от деления\n",
    "a: int = 12\n",
    "b: int = 7\n",
    "d = a % b\n",
    "print(d, type(d))"
   ]
  },
  {
   "cell_type": "code",
   "execution_count": 7,
   "id": "e6a7045f",
   "metadata": {},
   "outputs": [
    {
     "name": "stdout",
     "output_type": "stream",
     "text": [
      "256 <class 'int'>\n"
     ]
    }
   ],
   "source": [
    "# Возведение в степень\n",
    "a: int = 2\n",
    "b: int = 8\n",
    "d = a ** b\n",
    "print(d, type(d))"
   ]
  },
  {
   "cell_type": "code",
   "execution_count": 9,
   "id": "5969c8a1",
   "metadata": {},
   "outputs": [
    {
     "name": "stdout",
     "output_type": "stream",
     "text": [
      "256 <class 'int'>\n"
     ]
    }
   ],
   "source": [
    "# Возведение в степень встроенной функцией\n",
    "a: int = 2\n",
    "b: int = 8\n",
    "d = pow(a, b)\n",
    "print(d, type(d))"
   ]
  },
  {
   "cell_type": "code",
   "execution_count": 11,
   "id": "226933e3",
   "metadata": {},
   "outputs": [],
   "source": [
    "# Встроенные функции"
   ]
  },
  {
   "cell_type": "code",
   "execution_count": 12,
   "id": "72813f93",
   "metadata": {},
   "outputs": [
    {
     "data": {
      "text/plain": [
       "1"
      ]
     },
     "execution_count": 12,
     "metadata": {},
     "output_type": "execute_result"
    }
   ],
   "source": [
    "# Модуль числа\n",
    "abs(-1)"
   ]
  },
  {
   "cell_type": "code",
   "execution_count": 13,
   "id": "83dec08d",
   "metadata": {},
   "outputs": [
    {
     "name": "stdout",
     "output_type": "stream",
     "text": [
      "True\n"
     ]
    }
   ],
   "source": [
    "# all - Проверка что все элементы последовательности истинны\n",
    "# (не пустые или равные 0)\n",
    "list1 = [1, 2, 3]\n",
    "print(all(list1))"
   ]
  },
  {
   "cell_type": "code",
   "execution_count": 2,
   "id": "47064e50",
   "metadata": {},
   "outputs": [
    {
     "name": "stdout",
     "output_type": "stream",
     "text": [
      "False\n"
     ]
    }
   ],
   "source": [
    "list1 = [1, 2, 0]\n",
    "print(all(list1))"
   ]
  },
  {
   "cell_type": "code",
   "execution_count": 14,
   "id": "9cb880a1",
   "metadata": {},
   "outputs": [
    {
     "name": "stdout",
     "output_type": "stream",
     "text": [
      "True\n"
     ]
    }
   ],
   "source": [
    "list1 = [\"1\", \"2\", \"3\"]\n",
    "print(all(list1))"
   ]
  },
  {
   "cell_type": "code",
   "execution_count": 15,
   "id": "fcb178cf",
   "metadata": {},
   "outputs": [
    {
     "name": "stdout",
     "output_type": "stream",
     "text": [
      "False\n"
     ]
    }
   ],
   "source": [
    "list1 = [\"1\", \"\", \"3\"]\n",
    "print(all(list1))"
   ]
  },
  {
   "cell_type": "code",
   "execution_count": 16,
   "id": "628fc707",
   "metadata": {},
   "outputs": [
    {
     "name": "stdout",
     "output_type": "stream",
     "text": [
      "True\n"
     ]
    }
   ],
   "source": [
    "list1 = []\n",
    "print(all(list1))"
   ]
  },
  {
   "cell_type": "code",
   "execution_count": 17,
   "id": "6ed02a3d",
   "metadata": {},
   "outputs": [
    {
     "name": "stdout",
     "output_type": "stream",
     "text": [
      "Ничего нет\n"
     ]
    }
   ],
   "source": [
    "# Проверка что последовательность не пустая\n",
    "list1 = []\n",
    "if list1:\n",
    "    print(\"Что-то есть\")\n",
    "else:\n",
    "    print(\"Ничего нет\")"
   ]
  },
  {
   "cell_type": "code",
   "execution_count": 18,
   "id": "97b9aa6c",
   "metadata": {},
   "outputs": [
    {
     "name": "stdout",
     "output_type": "stream",
     "text": [
      "Что-то есть\n"
     ]
    }
   ],
   "source": [
    "list1 = [1]\n",
    "if list1:\n",
    "    print(\"Что-то есть\")\n",
    "else:\n",
    "    print(\"Ничего нет\")"
   ]
  },
  {
   "cell_type": "code",
   "execution_count": 19,
   "id": "86a510d6",
   "metadata": {},
   "outputs": [
    {
     "name": "stdout",
     "output_type": "stream",
     "text": [
      "р\n"
     ]
    }
   ],
   "source": [
    "str1 = \"Привет\"\n",
    "print(str1[1])"
   ]
  },
  {
   "cell_type": "code",
   "execution_count": 20,
   "id": "dda054dd",
   "metadata": {},
   "outputs": [
    {
     "name": "stdout",
     "output_type": "stream",
     "text": [
      "True\n"
     ]
    }
   ],
   "source": [
    "str1 = \"Привет\"\n",
    "print(all(str1))"
   ]
  },
  {
   "cell_type": "code",
   "execution_count": 22,
   "id": "a7f448fe",
   "metadata": {},
   "outputs": [
    {
     "name": "stdout",
     "output_type": "stream",
     "text": [
      "False\n"
     ]
    }
   ],
   "source": [
    "str1 = \"Привет\"\n",
    "str2 = \"\"\n",
    "print(all([str1, str2]))"
   ]
  },
  {
   "cell_type": "code",
   "execution_count": 23,
   "id": "54fa4dd8",
   "metadata": {},
   "outputs": [
    {
     "name": "stdout",
     "output_type": "stream",
     "text": [
      "True\n"
     ]
    }
   ],
   "source": [
    "# any - проверка что хотя бы один элемент истина\n",
    "# (не пустой или равный нулю)\n",
    "str1 = \"Привет\"\n",
    "str2 = \"\"\n",
    "print(any([str1, str2]))"
   ]
  },
  {
   "cell_type": "code",
   "execution_count": 24,
   "id": "90215a00",
   "metadata": {},
   "outputs": [
    {
     "name": "stdout",
     "output_type": "stream",
     "text": [
      "False\n"
     ]
    }
   ],
   "source": [
    "str1 = \"\"\n",
    "str2 = \"\"\n",
    "print(any([str1, str2]))"
   ]
  },
  {
   "cell_type": "code",
   "execution_count": 26,
   "id": "400f1647",
   "metadata": {},
   "outputs": [
    {
     "data": {
      "text/plain": [
       "6"
      ]
     },
     "execution_count": 26,
     "metadata": {},
     "output_type": "execute_result"
    }
   ],
   "source": [
    "# len - возращает количество элементов в последовательности\n",
    "str1 = \"Привет\"\n",
    "len(str1)"
   ]
  },
  {
   "cell_type": "code",
   "execution_count": 27,
   "id": "ef11315f",
   "metadata": {},
   "outputs": [
    {
     "data": {
      "text/plain": [
       "3"
      ]
     },
     "execution_count": 27,
     "metadata": {},
     "output_type": "execute_result"
    }
   ],
   "source": [
    "list1 = [\"\", \"\", \"\"]\n",
    "len(list1)"
   ]
  },
  {
   "cell_type": "code",
   "execution_count": 28,
   "id": "11135ff7",
   "metadata": {},
   "outputs": [
    {
     "data": {
      "text/plain": [
       "3"
      ]
     },
     "execution_count": 28,
     "metadata": {},
     "output_type": "execute_result"
    }
   ],
   "source": [
    "len([\"\", \"\", \"\"])"
   ]
  },
  {
   "cell_type": "code",
   "execution_count": 29,
   "id": "660273dd",
   "metadata": {},
   "outputs": [
    {
     "data": {
      "text/plain": [
       "['П', 'в', 'е', 'и', 'р', 'т']"
      ]
     },
     "execution_count": 29,
     "metadata": {},
     "output_type": "execute_result"
    }
   ],
   "source": [
    "# sorted - сортирует последовательность и возращает список\n",
    "sorted(\"Привет\")"
   ]
  },
  {
   "cell_type": "code",
   "execution_count": 30,
   "id": "76139586",
   "metadata": {},
   "outputs": [
    {
     "data": {
      "text/plain": [
       "['в', 'е', 'и', 'п', 'р', 'т']"
      ]
     },
     "execution_count": 30,
     "metadata": {},
     "output_type": "execute_result"
    }
   ],
   "source": [
    "sorted(\"привет\")"
   ]
  },
  {
   "cell_type": "code",
   "execution_count": 31,
   "id": "993f26fb",
   "metadata": {},
   "outputs": [
    {
     "data": {
      "text/plain": [
       "['т', 'р', 'п', 'и', 'е', 'в']"
      ]
     },
     "execution_count": 31,
     "metadata": {},
     "output_type": "execute_result"
    }
   ],
   "source": [
    "sorted(\"привет\", reverse=True)"
   ]
  },
  {
   "cell_type": "code",
   "execution_count": 32,
   "id": "7059a227",
   "metadata": {},
   "outputs": [],
   "source": [
    "# Функции"
   ]
  },
  {
   "cell_type": "code",
   "execution_count": 33,
   "id": "d5e16170",
   "metadata": {},
   "outputs": [],
   "source": [
    "# Объявление функции\n",
    "def print_hello():\n",
    "    print(\"Hello\")"
   ]
  },
  {
   "cell_type": "code",
   "execution_count": 34,
   "id": "f8625186",
   "metadata": {
    "scrolled": true
   },
   "outputs": [
    {
     "name": "stdout",
     "output_type": "stream",
     "text": [
      "Hello\n"
     ]
    }
   ],
   "source": [
    "def print_hello():\n",
    "    print(\"Hello\")\n",
    "\n",
    "# Вызов функции\n",
    "print_hello()"
   ]
  },
  {
   "cell_type": "code",
   "execution_count": 35,
   "id": "b1842198",
   "metadata": {},
   "outputs": [
    {
     "name": "stdout",
     "output_type": "stream",
     "text": [
      "Hello\n",
      "Привет\n",
      "Hello\n",
      "Привет\n"
     ]
    }
   ],
   "source": [
    "def print_hello():\n",
    "    print(\"Hello\")\n",
    "    print(\"Привет\")\n",
    "\n",
    "print_hello()\n",
    "print_hello()"
   ]
  },
  {
   "cell_type": "code",
   "execution_count": 37,
   "id": "9a31ebaa",
   "metadata": {},
   "outputs": [
    {
     "name": "stdout",
     "output_type": "stream",
     "text": [
      "Hello, Евгений!\n",
      "Привет, Евгений!\n"
     ]
    }
   ],
   "source": [
    "# Функция с аргументом (переменная внутри функции)\n",
    "def print_hello(name):\n",
    "    print(f\"Hello, {name}!\")\n",
    "    print(f\"Привет, {name}!\")\n",
    "    \n",
    "    \n",
    "print_hello(\"Евгений\")"
   ]
  },
  {
   "cell_type": "code",
   "execution_count": 38,
   "id": "37b45bee",
   "metadata": {},
   "outputs": [
    {
     "name": "stdout",
     "output_type": "stream",
     "text": [
      "Hello, Евгений 123!\n",
      "Привет, Евгений 123!\n",
      "Hello, 123 Евгений!\n",
      "Привет, 123 Евгений!\n"
     ]
    }
   ],
   "source": [
    "def print_hello(name, surname):\n",
    "    print(f\"Hello, {name} {surname}!\")\n",
    "    print(f\"Привет, {name} {surname}!\")\n",
    "    \n",
    "\n",
    "# Вызов с позиционными аргументами\n",
    "print_hello(surname=\"123\", name=\"Евгений\")\n",
    "# Вызов с порядковыми аргументами\n",
    "print_hello(\"123\", \"Евгений\")"
   ]
  },
  {
   "cell_type": "code",
   "execution_count": 3,
   "id": "daf81c89",
   "metadata": {},
   "outputs": [
    {
     "name": "stdout",
     "output_type": "stream",
     "text": [
      "6\n",
      "10\n"
     ]
    }
   ],
   "source": [
    "# функция с неизвестным числом аргументов и возвращаемым значением\n",
    "def my_sum(*args):\n",
    "    summa = 0\n",
    "    for item in args:\n",
    "        summa += item\n",
    "    return summa\n",
    "\n",
    "a = my_sum(1, 2, 3)\n",
    "print(a)\n",
    "b = my_sum(1, 2, 3, 4)\n",
    "print(b)"
   ]
  },
  {
   "cell_type": "code",
   "execution_count": 4,
   "id": "53c9c206",
   "metadata": {},
   "outputs": [],
   "source": [
    "# Функция с TypeHints\n",
    "# TypeHints - подсказки типов, позволяют ide проверть вводимые и\n",
    "# возвращаемые значения\n",
    "def my_sum(*args: [int | float]) -> [int | float]:\n",
    "    summa = 0\n",
    "    for item in args:\n",
    "        summa += item\n",
    "    return summa"
   ]
  },
  {
   "cell_type": "code",
   "execution_count": 7,
   "id": "6a8f876e",
   "metadata": {},
   "outputs": [],
   "source": [
    "# Определение функции с TypeHints и DocString (комментарий с документацией)\n",
    "# Во многих ide DocString отображается при наведении на функцию\n",
    "# Optional - тип данных, позволяющий указать значение None\n",
    "# вместо аргумента\n",
    "\n",
    "from typing import Optional\n",
    "\n",
    "def multiply(a: int, b: Optional[int] = 1) -> tuple[int, int]:\n",
    "    \"\"\"\n",
    "    Функция для умножения и возведения в степень двух чисел\n",
    "    :param a: 1 число\n",
    "    :param b: 2 число\n",
    "    :return: кортеж с результатами\n",
    "    \"\"\"\n",
    "    print(a * b, a ** b)\n",
    "    return a * b, a ** b"
   ]
  },
  {
   "cell_type": "code",
   "execution_count": 39,
   "id": "b0140f72",
   "metadata": {},
   "outputs": [],
   "source": [
    "# Лямбда-функции\n",
    "# Одностроковое определение функции"
   ]
  },
  {
   "cell_type": "code",
   "execution_count": 51,
   "id": "bb2fa4c8",
   "metadata": {},
   "outputs": [
    {
     "data": {
      "text/plain": [
       "8"
      ]
     },
     "execution_count": 51,
     "metadata": {},
     "output_type": "execute_result"
    }
   ],
   "source": [
    "add = lambda x, y: x + y\n",
    "add(5, 3)"
   ]
  },
  {
   "cell_type": "code",
   "execution_count": 41,
   "id": "ae975c0e",
   "metadata": {},
   "outputs": [
    {
     "data": {
      "text/plain": [
       "10"
      ]
     },
     "execution_count": 41,
     "metadata": {},
     "output_type": "execute_result"
    }
   ],
   "source": [
    "add = lambda x, y: x + y\n",
    "add(5, 3)\n",
    "add(6, 4)"
   ]
  },
  {
   "cell_type": "code",
   "execution_count": 42,
   "id": "de7f3218",
   "metadata": {},
   "outputs": [
    {
     "name": "stdout",
     "output_type": "stream",
     "text": [
      "8\n",
      "10\n"
     ]
    }
   ],
   "source": [
    "add = lambda x, y: x + y\n",
    "print(add(5, 3))\n",
    "print(add(6, 4))"
   ]
  },
  {
   "cell_type": "code",
   "execution_count": 50,
   "id": "e52403c3",
   "metadata": {},
   "outputs": [
    {
     "name": "stdout",
     "output_type": "stream",
     "text": [
      "4\n"
     ]
    }
   ],
   "source": [
    "def add_number(n):\n",
    "    return lambda x: x + n\n",
    "\n",
    "a_1 = add_number(3)\n",
    "print(a_1(1))"
   ]
  },
  {
   "cell_type": "code",
   "execution_count": 52,
   "id": "ca46c1d8",
   "metadata": {},
   "outputs": [],
   "source": [
    "# Списки и кортежи"
   ]
  },
  {
   "cell_type": "code",
   "execution_count": 57,
   "id": "49491ea2",
   "metadata": {},
   "outputs": [
    {
     "data": {
      "text/plain": [
       "['first', 'second']"
      ]
     },
     "execution_count": 57,
     "metadata": {},
     "output_type": "execute_result"
    }
   ],
   "source": [
    "my_list = [\"first\", \"second\", \"third\", \"fourth\"]\n",
    "my_list[:2]"
   ]
  },
  {
   "cell_type": "code",
   "execution_count": 58,
   "id": "654bd6dc",
   "metadata": {},
   "outputs": [
    {
     "data": {
      "text/plain": [
       "['second', 'third', 'fourth']"
      ]
     },
     "execution_count": 58,
     "metadata": {},
     "output_type": "execute_result"
    }
   ],
   "source": [
    "my_list = [\"first\", \"second\", \"third\", \"fourth\"]\n",
    "my_list[1:]"
   ]
  },
  {
   "cell_type": "code",
   "execution_count": 59,
   "id": "497f0fe5",
   "metadata": {},
   "outputs": [
    {
     "data": {
      "text/plain": [
       "['first', 'second', 'third', 'fourth']"
      ]
     },
     "execution_count": 59,
     "metadata": {},
     "output_type": "execute_result"
    }
   ],
   "source": [
    "my_list = [\"first\", \"second\", \"third\", \"fourth\"]\n",
    "my_list[:]"
   ]
  },
  {
   "cell_type": "code",
   "execution_count": 61,
   "id": "c7414d59",
   "metadata": {},
   "outputs": [
    {
     "name": "stdout",
     "output_type": "stream",
     "text": [
      "['first', 'second', 'third', 'fourth', 'fife']\n"
     ]
    }
   ],
   "source": [
    "my_list = [\"first\", \"second\", \"third\", \"fourth\"]\n",
    "my_list.append(\"fife\")\n",
    "print(my_list)"
   ]
  },
  {
   "cell_type": "code",
   "execution_count": 62,
   "id": "97e4b7cb",
   "metadata": {},
   "outputs": [
    {
     "name": "stdout",
     "output_type": "stream",
     "text": [
      "['first', 'second', 'third', 'fourth', 'first', 'second', 'third', 'fourth', 'first', 'second', 'third', 'fourth']\n"
     ]
    }
   ],
   "source": [
    "my_list = [\"first\", \"second\", \"third\", \"fourth\"] * 3\n",
    "print(my_list)"
   ]
  },
  {
   "cell_type": "code",
   "execution_count": 63,
   "id": "0ba41e59",
   "metadata": {},
   "outputs": [
    {
     "name": "stdout",
     "output_type": "stream",
     "text": [
      "first\n",
      "second\n",
      "third\n",
      "fourth\n"
     ]
    }
   ],
   "source": [
    "my_list = [\"first\", \"second\", \"third\", \"fourth\"]\n",
    "# итерация по элементам циклом for\n",
    "for item in my_list:\n",
    "    print(item)"
   ]
  },
  {
   "cell_type": "code",
   "execution_count": 64,
   "id": "cb9683de",
   "metadata": {},
   "outputs": [
    {
     "name": "stdout",
     "output_type": "stream",
     "text": [
      "0: first\n",
      "1: second\n",
      "2: third\n",
      "3: fourth\n"
     ]
    }
   ],
   "source": [
    "my_list = [\"first\", \"second\", \"third\", \"fourth\"]\n",
    "# enumerate встроенная функция, для итерации по индексам и значениям\n",
    "for index, item in enumerate(my_list):\n",
    "    print(f\"{index}: {item}\")"
   ]
  },
  {
   "cell_type": "code",
   "execution_count": 66,
   "id": "b861ec23",
   "metadata": {},
   "outputs": [
    {
     "name": "stdout",
     "output_type": "stream",
     "text": [
      "item = 'first' is a number = 1\n",
      "item = 'second' is a number = 2\n",
      "item = 'third' is a number = 3\n",
      "item = 'fourth' is a number = 4\n"
     ]
    }
   ],
   "source": [
    "my_list = [\"first\", \"second\", \"third\", \"fourth\"]\n",
    "my_list_2 = [1, 2, 3, 4]\n",
    "\n",
    "# zip - итерация по 2 последовательностям\n",
    "for item, number in zip(my_list, my_list_2):\n",
    "    print(f\"{item = } is a {number = }\")"
   ]
  },
  {
   "cell_type": "code",
   "execution_count": 67,
   "id": "1d92edb4",
   "metadata": {},
   "outputs": [
    {
     "data": {
      "text/plain": [
       "True"
      ]
     },
     "execution_count": 67,
     "metadata": {},
     "output_type": "execute_result"
    }
   ],
   "source": [
    "# проверка вхождения элемента в последовательность\n",
    "\"first\" in [\"first\", \"second\", \"third\", \"fourth\"]"
   ]
  },
  {
   "cell_type": "code",
   "execution_count": 68,
   "id": "5fbe4bd6",
   "metadata": {},
   "outputs": [
    {
     "data": {
      "text/plain": [
       "False"
      ]
     },
     "execution_count": 68,
     "metadata": {},
     "output_type": "execute_result"
    }
   ],
   "source": [
    "\"1\" in [\"first\", \"second\", \"third\", \"fourth\"]"
   ]
  },
  {
   "cell_type": "code",
   "execution_count": 69,
   "id": "ca07a73b",
   "metadata": {},
   "outputs": [
    {
     "data": {
      "text/plain": [
       "True"
      ]
     },
     "execution_count": 69,
     "metadata": {},
     "output_type": "execute_result"
    }
   ],
   "source": [
    "\"1\" not in [\"first\", \"second\", \"third\", \"fourth\"]"
   ]
  },
  {
   "cell_type": "code",
   "execution_count": 70,
   "id": "0cf35580",
   "metadata": {},
   "outputs": [],
   "source": [
    "# Tuple - кортеж (список с неизменными значениями)\n",
    "my_tuple = (\"first\", \"second\", \"third\", \"fourth\")"
   ]
  },
  {
   "cell_type": "code",
   "execution_count": 71,
   "id": "8c2b27e2",
   "metadata": {},
   "outputs": [
    {
     "name": "stdout",
     "output_type": "stream",
     "text": [
      "['first', 'second', 'third', 'fourth', 'first', 'second', 'third', 'fourth', 'first', 'second', 'third', 'fourth']\n",
      "{'first', 'second', 'fourth', 'third'}\n"
     ]
    }
   ],
   "source": [
    "my_list = [\"first\", \"second\", \"third\", \"fourth\"] * 3\n",
    "print(my_list)\n",
    "# set - множество (не может содеражать повторяющиеся элементы)\n",
    "my_set = set(my_list)\n",
    "print(my_set)"
   ]
  },
  {
   "cell_type": "code",
   "execution_count": 72,
   "id": "6bc645c1",
   "metadata": {},
   "outputs": [],
   "source": [
    "# Словари"
   ]
  },
  {
   "cell_type": "code",
   "execution_count": 76,
   "id": "a3f776bd",
   "metadata": {},
   "outputs": [
    {
     "data": {
      "text/plain": [
       "[1, 2]"
      ]
     },
     "execution_count": 76,
     "metadata": {},
     "output_type": "execute_result"
    }
   ],
   "source": [
    "# Содержат пары ключ:значение\n",
    "# ключи повторяться не могут\n",
    "my_dict: dict = {\"key1\": [1, 2], \"key2\": \"value2\"}\n",
    "my_dict['key1']"
   ]
  },
  {
   "cell_type": "code",
   "execution_count": 8,
   "id": "d65cafc3",
   "metadata": {},
   "outputs": [
    {
     "name": "stdout",
     "output_type": "stream",
     "text": [
      "dict_keys(['key1', 'key2'])\n",
      "dict_values([[1, 2], 'value2'])\n",
      "key1=[1, 2]\n",
      "key2=value2\n",
      "my_dict['key1'] = [1, 2]\n",
      "my_dict.get('key1') = [1, 2]\n"
     ]
    }
   ],
   "source": [
    "# Методы словарей\n",
    "my_dict: dict = {\"key1\": [1, 2], \"key2\": \"value2\"}\n",
    "# Возрат ключей\n",
    "print(my_dict.keys())\n",
    "# Возрат значений\n",
    "print(my_dict.values())\n",
    "# Итерация по всем элементам\n",
    "for key, item in my_dict.items():\n",
    "    print(f\"{key}={item}\")\n",
    "# Получение значения по ключу\n",
    "print(f\"{my_dict['key1'] = }\")\n",
    "print(f\"{my_dict.get('key1') = }\")"
   ]
  },
  {
   "cell_type": "markdown",
   "id": "9f841204",
   "metadata": {},
   "source": [
    "# Задания для самостоятельного выполнения\n",
    "## Опубликуйте их на публичном репозитории github\n",
    "## Одно задание = один файл\n",
    "\n",
    "### Задание 1\n",
    "Напишите функцию, которая принимает аргумент – натуральное число N \n",
    "и выводит на экран линию из N символов '–'.  \n",
    "Пример:\n",
    "`Введите N:`\n",
    "`10`\n",
    "`----------`\n",
    "\n",
    "### Задание 2\n",
    "Напишите функцию, которая принимает аргумент – список целых чисел A\n",
    "и возвращает 2 списка: нечетных и четных чисел из A.  \n",
    "Пример:\n",
    "`[1, 2, 3, 4, 5]`\n",
    "Возврат:\n",
    "`([1, 3, 5], [2, 4])`\n",
    "\n",
    "### Задание 3\n",
    "Напишите функцию, которая принимает 2 аргумента – строка S и\n",
    "строка sep и возвращает новую строку в которой sep вставлен между символами из S.  \n",
    "Пример:\n",
    "`\"Привет\", sep=\"-*-\"`\n",
    "Возврат:\n",
    "`\"П-*-р-*-и-*-в-*-е-*-т\"`\n",
    "\n",
    "### Задание 4\n",
    "Напишите функцию, которая принимает аргумент – строка S и\n",
    "возвращает список слов и количество символов не считая пробелы.  \n",
    "Пример:\n",
    "`\"Привет, как дела?\"`\n",
    "Возврат:\n",
    "`(3, 15)`"
   ]
  },
  {
   "cell_type": "code",
   "execution_count": null,
   "id": "8e8b318f",
   "metadata": {},
   "outputs": [],
   "source": []
  }
 ],
 "metadata": {
  "kernelspec": {
   "display_name": "Python 3 (ipykernel)",
   "language": "python",
   "name": "python3"
  },
  "language_info": {
   "codemirror_mode": {
    "name": "ipython",
    "version": 3
   },
   "file_extension": ".py",
   "mimetype": "text/x-python",
   "name": "python",
   "nbconvert_exporter": "python",
   "pygments_lexer": "ipython3",
   "version": "3.11.5"
  }
 },
 "nbformat": 4,
 "nbformat_minor": 5
}
