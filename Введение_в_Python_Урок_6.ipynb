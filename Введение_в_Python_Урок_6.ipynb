{
 "cells": [
  {
   "cell_type": "code",
   "execution_count": 1,
   "id": "c139c4dc",
   "metadata": {},
   "outputs": [],
   "source": [
    "# Модуль для работы с изображениями Pillow"
   ]
  },
  {
   "cell_type": "code",
   "execution_count": null,
   "id": "8a720158",
   "metadata": {},
   "outputs": [],
   "source": [
    "from PIL import Image, ImageFilter\n",
    "import numpy as np\n",
    "\n",
    "\n",
    "if __name__ == '__main__':\n",
    "    # открытие изображения\n",
    "    my_image = Image.open(\"1.png\")\n",
    "    my_image.load()\n",
    "    \n",
    "    # вывод параметров изображения\n",
    "    print(my_image.size)\n",
    "    print(my_image.format)\n",
    "    print(my_image.mode)\n",
    "\n",
    "    # наложение фильтра на изображения\n",
    "    my_image_filtered = my_image.filter(ImageFilter.BLUR)\n",
    "    # my_image.show()\n",
    "    # my_image_filtered.show()\n",
    "    my_image_filtered.save(\"1_f.png\")\n",
    "\n",
    "    # изменение размера изображения\n",
    "    size = (128, 128)\n",
    "    # my_image.thumbnail(size)\n",
    "    my_image_resized = my_image.resize(size)\n",
    "    # my_image_resized.show()\n",
    "    my_image_resized = my_image_resized.filter(ImageFilter.CONTOUR)\n",
    "    my_image_resized.show()\n",
    "    \n",
    "    # сохранение в разных форматах\n",
    "    my_image_resized.save(\"1_s.webp\")\n",
    "    my_image_resized = my_image_resized.convert(\"RGB\")\n",
    "    my_image_resized.save(\"1_s.jpg\", \"JPEG\", optimize=True, quality=10)\n",
    "\n",
    "    # конвертация изображения в массив\n",
    "    my_image_numpy = np.array(my_image_resized)\n",
    "    print(my_image_numpy)"
   ]
  },
  {
   "cell_type": "code",
   "execution_count": null,
   "id": "e4089d78",
   "metadata": {},
   "outputs": [],
   "source": [
    "# Наложение водяного знака на изображение\n",
    "from PIL import Image\n",
    "\n",
    "\n",
    "def watermark(input_image: str, watermark_image: str) -> str:\n",
    "    base_image = Image.open(input_image)\n",
    "    watermark = Image.open(watermark_image).convert(\"RGBA\")\n",
    "\n",
    "    transparent = Image.new(\"RGBA\", base_image.size, (0, 0, 0, 0))\n",
    "    transparent.paste(base_image, (0, 0))\n",
    "    transparent.paste(watermark, (40, 100), watermark)\n",
    "\n",
    "    if base_image.mode == 'RGB':\n",
    "        transparent = transparent.convert('RGB')\n",
    "    else:\n",
    "        transparent = transparent.convert('P')\n",
    "\n",
    "    transparent.save(f\"watermarked.png\")\n",
    "    return f\"watermarked.png\"\n",
    "\n",
    "\n",
    "if __name__ == '__main__':\n",
    "    watermark(\"1.png\", \"2.png\")"
   ]
  },
  {
   "cell_type": "code",
   "execution_count": 3,
   "id": "04af678d",
   "metadata": {},
   "outputs": [],
   "source": [
    "# Работа с http запросами Requests"
   ]
  },
  {
   "cell_type": "code",
   "execution_count": 4,
   "id": "0a9f823b",
   "metadata": {},
   "outputs": [
    {
     "name": "stdout",
     "output_type": "stream",
     "text": [
      "id --- daHxeTPgZ\n",
      "url --- https://cdn2.thecatapi.com/images/daHxeTPgZ.jpg\n",
      "width --- 800\n",
      "height --- 547\n"
     ]
    }
   ],
   "source": [
    "import requests\n",
    "from PIL import Image\n",
    "from io import BytesIO\n",
    "\n",
    "\n",
    "# Отправка GET запроса\n",
    "r = requests.get(\"https://api.thecatapi.com/v1/images/search\")\n",
    "\n",
    "\n",
    "if __name__ == '__main__':\n",
    "    # Проверка статуса (200 = OK)\n",
    "    if r.ok:\n",
    "        answer = r.json()\n",
    "        r_dict = dict(answer[0])\n",
    "        for key, value in r_dict.items():\n",
    "            print(f\"{key} --- {value}\")\n",
    "\n",
    "        cat = requests.get(r_dict['url'])\n",
    "        \n",
    "        # Созранение файла\n",
    "        cat_image = Image.open(BytesIO(cat.content))\n",
    "        # cat_image.show()\n",
    "        cat_image.save(r_dict['url'].split('/')[-1])\n",
    "        # print(answer[0])"
   ]
  },
  {
   "cell_type": "code",
   "execution_count": 5,
   "id": "1538a0ae",
   "metadata": {},
   "outputs": [
    {
     "name": "stdout",
     "output_type": "stream",
     "text": [
      "{'args': {'Name': 'Vasya', 'phone': '123'}, 'data': '', 'files': {}, 'form': {}, 'headers': {'Accept': 'application/json', 'Accept-Encoding': 'gzip, deflate, br', 'Content-Length': '0', 'Host': 'httpbin.org', 'User-Agent': 'Mozilla/5.0 (X11; Linux x86_64) AppleWebKit/537.36 (KHTML, like Gecko) Chrome/121.0.0.0 Safari/537.36', 'X-Amzn-Trace-Id': 'Root=1-65cf9f60-715e838f37a9efb91c9b7366'}, 'json': None, 'origin': '109.252.36.7', 'url': 'https://httpbin.org/post?Name=Vasya&phone=123'}\n"
     ]
    }
   ],
   "source": [
    "# Отправка POST запроса\n",
    "import requests\n",
    "\n",
    "\n",
    "if __name__ == '__main__':\n",
    "    my_data = {\"Name\": \"Vasya\", \"phone\": 123}\n",
    "    headers = {\n",
    "        'Accept': 'application/json',\n",
    "        'User-Agent': 'Mozilla/5.0 (X11; Linux x86_64) AppleWebKit/537.36 (KHTML, like Gecko) Chrome/121.0.0.0 '\n",
    "                      'Safari/537.36'\n",
    "    }\n",
    "    r = requests.post(\"https://httpbin.org/post\", headers=headers, params=my_data)\n",
    "    print(r.json())\n"
   ]
  },
  {
   "cell_type": "code",
   "execution_count": 6,
   "id": "57f1a655",
   "metadata": {},
   "outputs": [],
   "source": [
    "# Работа с модулем tkinter\n",
    "import tkinter\n",
    "\n",
    "app = tkinter.Tk()\n",
    "\n",
    "\n",
    "x = 0.0\n",
    "app.geometry(\"250x200\")\n",
    "label = tkinter.Label(app, text=x)\n",
    "label2 = tkinter.Label(app, text='')\n",
    "field = tkinter.Entry(app, width=20)\n",
    "\n",
    "\n",
    "def update_button():\n",
    "    '''\n",
    "    Реакция на нажатие кнопки\n",
    "    '''\n",
    "    global x\n",
    "    x += 1\n",
    "    label.configure(text=x)\n",
    "    label2.configure(text=f\"--- {field.get()} ---\")\n",
    "\n",
    "\n",
    "button = tkinter.Button(app, anchor=\"center\", text=\"Нажми\", command=update_button)\n",
    "\n",
    "\n",
    "label.grid(column=0, row=0)\n",
    "button.grid(column=1, row=0)\n",
    "field.grid(column=2, row=0)\n",
    "label2.grid(column=0, row=1)\n",
    "\n",
    "\n",
    "if __name__ == '__main__':\n",
    "    app.mainloop()"
   ]
  },
  {
   "cell_type": "markdown",
   "id": "38329b26",
   "metadata": {},
   "source": [
    "# Задание для самостоятельного выполнения\n",
    "## Опубликуйте его на публичном репозитории github\n",
    "\n",
    "Объедините функционал оконного приложения tkinter с отправкой запросов requests.\n",
    "Например, сделайте кнопку для получения ссылки на картинку с котом (из примера выше) \n",
    "и отображения данной картинки в окне приложения. Добавьте кнопку на сохранение картинки."
   ]
  },
  {
   "cell_type": "code",
   "execution_count": null,
   "id": "658cdc12",
   "metadata": {},
   "outputs": [],
   "source": []
  }
 ],
 "metadata": {
  "kernelspec": {
   "display_name": "Python 3 (ipykernel)",
   "language": "python",
   "name": "python3"
  },
  "language_info": {
   "codemirror_mode": {
    "name": "ipython",
    "version": 3
   },
   "file_extension": ".py",
   "mimetype": "text/x-python",
   "name": "python",
   "nbconvert_exporter": "python",
   "pygments_lexer": "ipython3",
   "version": "3.11.5"
  }
 },
 "nbformat": 4,
 "nbformat_minor": 5
}
