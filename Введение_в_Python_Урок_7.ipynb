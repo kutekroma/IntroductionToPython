{
 "cells": [
  {
   "cell_type": "code",
   "execution_count": null,
   "id": "51ef2fd8",
   "metadata": {},
   "outputs": [],
   "source": [
    "# Исключения в Python (Exceptions)"
   ]
  },
  {
   "cell_type": "code",
   "execution_count": 2,
   "id": "e525fcc2",
   "metadata": {
    "scrolled": true
   },
   "outputs": [
    {
     "name": "stdout",
     "output_type": "stream",
     "text": [
      "-10 -- -1.0\n",
      "-9 -- -1.1111111111111112\n",
      "-8 -- -1.25\n",
      "-7 -- -1.4285714285714286\n",
      "-6 -- -1.6666666666666667\n",
      "-5 -- -2.0\n",
      "-4 -- -2.5\n",
      "-3 -- -3.3333333333333335\n",
      "-2 -- -5.0\n",
      "-1 -- -10.0\n"
     ]
    },
    {
     "ename": "ZeroDivisionError",
     "evalue": "division by zero",
     "output_type": "error",
     "traceback": [
      "\u001b[0;31m---------------------------------------------------------------------------\u001b[0m",
      "\u001b[0;31mZeroDivisionError\u001b[0m                         Traceback (most recent call last)",
      "Cell \u001b[0;32mIn[2], line 2\u001b[0m\n\u001b[1;32m      1\u001b[0m \u001b[38;5;28;01mfor\u001b[39;00m i \u001b[38;5;129;01min\u001b[39;00m \u001b[38;5;28mrange\u001b[39m(\u001b[38;5;241m-\u001b[39m\u001b[38;5;241m10\u001b[39m, \u001b[38;5;241m10\u001b[39m):\n\u001b[0;32m----> 2\u001b[0m     \u001b[38;5;28mprint\u001b[39m(\u001b[38;5;124mf\u001b[39m\u001b[38;5;124m\"\u001b[39m\u001b[38;5;132;01m{\u001b[39;00mi\u001b[38;5;132;01m}\u001b[39;00m\u001b[38;5;124m -- \u001b[39m\u001b[38;5;132;01m{\u001b[39;00m\u001b[38;5;241m10\u001b[39m\u001b[38;5;241m/\u001b[39mi\u001b[38;5;132;01m}\u001b[39;00m\u001b[38;5;124m\"\u001b[39m)\n",
      "\u001b[0;31mZeroDivisionError\u001b[0m: division by zero"
     ]
    }
   ],
   "source": [
    "# В данном цикле получим ошибку при делении на 0\n",
    "for i in range(-10, 10):\n",
    "    print(f\"{i} -- {10/i}\")"
   ]
  },
  {
   "cell_type": "code",
   "execution_count": 4,
   "id": "638b4995",
   "metadata": {},
   "outputs": [
    {
     "name": "stdout",
     "output_type": "stream",
     "text": [
      "-10 -- -1.0\n",
      "-9 -- -1.1111111111111112\n",
      "-8 -- -1.25\n",
      "-7 -- -1.4285714285714286\n",
      "-6 -- -1.6666666666666667\n",
      "-5 -- -2.0\n",
      "-4 -- -2.5\n",
      "-3 -- -3.3333333333333335\n",
      "-2 -- -5.0\n",
      "-1 -- -10.0\n",
      "На 0 делить нельзя\n",
      "1 -- 10.0\n",
      "2 -- 5.0\n",
      "3 -- 3.3333333333333335\n",
      "4 -- 2.5\n",
      "5 -- 2.0\n",
      "6 -- 1.6666666666666667\n",
      "7 -- 1.4285714285714286\n",
      "8 -- 1.25\n",
      "9 -- 1.1111111111111112\n"
     ]
    }
   ],
   "source": [
    "# Обработка всех исключений (Try - Except):\n",
    "\n",
    "for i in range(-10, 10):\n",
    "    try:\n",
    "        print(f\"{i} -- {10/i}\")\n",
    "    except:\n",
    "        print(\"На 0 делить нельзя\")"
   ]
  },
  {
   "cell_type": "code",
   "execution_count": 11,
   "id": "83932523",
   "metadata": {},
   "outputs": [
    {
     "name": "stdout",
     "output_type": "stream",
     "text": [
      "-10 -- -1.0\n",
      "Сложение несовместимых типов\n",
      "-9 -- -1.1111111111111112\n",
      "Сложение несовместимых типов\n",
      "-8 -- -1.25\n",
      "Сложение несовместимых типов\n",
      "-7 -- -1.4285714285714286\n",
      "Сложение несовместимых типов\n",
      "-6 -- -1.6666666666666667\n",
      "Сложение несовместимых типов\n",
      "-5 -- -2.0\n",
      "Сложение несовместимых типов\n",
      "-4 -- -2.5\n",
      "Сложение несовместимых типов\n",
      "-3 -- -3.3333333333333335\n",
      "Сложение несовместимых типов\n",
      "-2 -- -5.0\n",
      "Сложение несовместимых типов\n",
      "-1 -- -10.0\n",
      "Сложение несовместимых типов\n",
      "На 0 делить нельзя\n",
      "1 -- 10.0\n",
      "Сложение несовместимых типов\n",
      "2 -- 5.0\n",
      "Сложение несовместимых типов\n",
      "3 -- 3.3333333333333335\n",
      "Сложение несовместимых типов\n",
      "4 -- 2.5\n",
      "Сложение несовместимых типов\n",
      "5 -- 2.0\n",
      "Сложение несовместимых типов\n",
      "6 -- 1.6666666666666667\n",
      "Сложение несовместимых типов\n",
      "7 -- 1.4285714285714286\n",
      "Сложение несовместимых типов\n",
      "8 -- 1.25\n",
      "Сложение несовместимых типов\n",
      "9 -- 1.1111111111111112\n",
      "Сложение несовместимых типов\n"
     ]
    }
   ],
   "source": [
    "# Обработка исключений по названию класса\n",
    "\n",
    "my_d = {\"1\": 1, \"2\": 2}\n",
    "for i in range(-10, 10):\n",
    "    try:\n",
    "        print(f\"{i} -- {10/i}\")\n",
    "        print('10'+10)\n",
    "        print(my_d[\"3\"])\n",
    "    except ZeroDivisionError:\n",
    "        print(\"На 0 делить нельзя\")\n",
    "    except TypeError:\n",
    "        print(\"Сложение несовместимых типов\")\n",
    "    # Перехват остальных исключений\n",
    "    except Exception as e:\n",
    "        print(f\"Неизвестное исключение: {e}\")"
   ]
  },
  {
   "cell_type": "code",
   "execution_count": 12,
   "id": "f37ba536",
   "metadata": {},
   "outputs": [],
   "source": [
    "# Проверка условия при помощи assert\n",
    "assert(True)\n",
    "assert i > -2, \"Значения меньше -2 не подходят\""
   ]
  },
  {
   "cell_type": "code",
   "execution_count": 13,
   "id": "0ae42b53",
   "metadata": {},
   "outputs": [
    {
     "ename": "AssertionError",
     "evalue": "",
     "output_type": "error",
     "traceback": [
      "\u001b[0;31m---------------------------------------------------------------------------\u001b[0m",
      "\u001b[0;31mAssertionError\u001b[0m                            Traceback (most recent call last)",
      "Cell \u001b[0;32mIn[13], line 1\u001b[0m\n\u001b[0;32m----> 1\u001b[0m \u001b[38;5;28;01massert\u001b[39;00m(\u001b[38;5;28;01mFalse\u001b[39;00m)\n",
      "\u001b[0;31mAssertionError\u001b[0m: "
     ]
    }
   ],
   "source": [
    "# При ответе False вызывает AssertionError\n",
    "assert(False)"
   ]
  },
  {
   "cell_type": "code",
   "execution_count": null,
   "id": "3de116d9",
   "metadata": {},
   "outputs": [],
   "source": [
    "# Создание своего исключения\n",
    "# Создаем класс, наследуя от Exception:\n",
    "class GreaterThanFiveError(Exception):\n",
    "    pass\n",
    "\n",
    "\n",
    "if __name__ == '__main__':\n",
    "    my_d = {\"1\": 1, \"2\": 2}\n",
    "    for i in range(-10, 10):\n",
    "        try:\n",
    "            if i > 5:\n",
    "                # Вызываем наше исключение\n",
    "                raise GreaterThanFiveError\n",
    "                \n",
    "            print(f\"{i} -- {10 / i}\")\n",
    "            if i == 7:\n",
    "                # Можно вызывать любые исключения\n",
    "                raise ValueError(\"7 нам не нужны\")\n",
    "        except ZeroDivisionError:\n",
    "            print(\"На 0 делить нельзя\")\n",
    "        except (TypeError, KeyError):\n",
    "            print(\"Сложение несовместимых типов или не тот ключ\")\n",
    "        except Exception as e:\n",
    "            print(f\"Неизвестное исключение: {e} {type(e)}\")\n",
    "        finally:\n",
    "            print(\"Вывод в любом случае\")\n"
   ]
  },
  {
   "cell_type": "code",
   "execution_count": 1,
   "id": "75373f00",
   "metadata": {},
   "outputs": [],
   "source": [
    "# Работа с модулем datetime"
   ]
  },
  {
   "cell_type": "code",
   "execution_count": 2,
   "id": "7ed93d08",
   "metadata": {},
   "outputs": [
    {
     "name": "stdout",
     "output_type": "stream",
     "text": [
      "2024-02-20 08:46:36.135448\n",
      "08:46:36.135448\n",
      "2024-02-20\n",
      "12896 days, 0:00:00\n",
      "2024-03-21\n",
      "Такого быть не может\n",
      "['Africa/Abidjan', 'Africa/Accra', 'Africa/Addis_Ababa', 'Africa/Algiers', 'Africa/Asmara', 'Africa/Asmera', 'Africa/Bamako', 'Africa/Bangui', 'Africa/Banjul', 'Africa/Bissau', 'Africa/Blantyre', 'Africa/Brazzaville', 'Africa/Bujumbura', 'Africa/Cairo', 'Africa/Casablanca', 'Africa/Ceuta', 'Africa/Conakry', 'Africa/Dakar', 'Africa/Dar_es_Salaam', 'Africa/Djibouti', 'Africa/Douala', 'Africa/El_Aaiun', 'Africa/Freetown', 'Africa/Gaborone', 'Africa/Harare', 'Africa/Johannesburg', 'Africa/Juba', 'Africa/Kampala', 'Africa/Khartoum', 'Africa/Kigali', 'Africa/Kinshasa', 'Africa/Lagos', 'Africa/Libreville', 'Africa/Lome', 'Africa/Luanda', 'Africa/Lubumbashi', 'Africa/Lusaka', 'Africa/Malabo', 'Africa/Maputo', 'Africa/Maseru', 'Africa/Mbabane', 'Africa/Mogadishu', 'Africa/Monrovia', 'Africa/Nairobi', 'Africa/Ndjamena', 'Africa/Niamey', 'Africa/Nouakchott', 'Africa/Ouagadougou', 'Africa/Porto-Novo', 'Africa/Sao_Tome', 'Africa/Timbuktu', 'Africa/Tripoli', 'Africa/Tunis', 'Africa/Windhoek', 'America/Adak', 'America/Anchorage', 'America/Anguilla', 'America/Antigua', 'America/Araguaina', 'America/Argentina/Buenos_Aires', 'America/Argentina/Catamarca', 'America/Argentina/ComodRivadavia', 'America/Argentina/Cordoba', 'America/Argentina/Jujuy', 'America/Argentina/La_Rioja', 'America/Argentina/Mendoza', 'America/Argentina/Rio_Gallegos', 'America/Argentina/Salta', 'America/Argentina/San_Juan', 'America/Argentina/San_Luis', 'America/Argentina/Tucuman', 'America/Argentina/Ushuaia', 'America/Aruba', 'America/Asuncion', 'America/Atikokan', 'America/Atka', 'America/Bahia', 'America/Bahia_Banderas', 'America/Barbados', 'America/Belem', 'America/Belize', 'America/Blanc-Sablon', 'America/Boa_Vista', 'America/Bogota', 'America/Boise', 'America/Buenos_Aires', 'America/Cambridge_Bay', 'America/Campo_Grande', 'America/Cancun', 'America/Caracas', 'America/Catamarca', 'America/Cayenne', 'America/Cayman', 'America/Chicago', 'America/Chihuahua', 'America/Ciudad_Juarez', 'America/Coral_Harbour', 'America/Cordoba', 'America/Costa_Rica', 'America/Creston', 'America/Cuiaba', 'America/Curacao', 'America/Danmarkshavn', 'America/Dawson', 'America/Dawson_Creek', 'America/Denver', 'America/Detroit', 'America/Dominica', 'America/Edmonton', 'America/Eirunepe', 'America/El_Salvador', 'America/Ensenada', 'America/Fort_Nelson', 'America/Fort_Wayne', 'America/Fortaleza', 'America/Glace_Bay', 'America/Godthab', 'America/Goose_Bay', 'America/Grand_Turk', 'America/Grenada', 'America/Guadeloupe', 'America/Guatemala', 'America/Guayaquil', 'America/Guyana', 'America/Halifax', 'America/Havana', 'America/Hermosillo', 'America/Indiana/Indianapolis', 'America/Indiana/Knox', 'America/Indiana/Marengo', 'America/Indiana/Petersburg', 'America/Indiana/Tell_City', 'America/Indiana/Vevay', 'America/Indiana/Vincennes', 'America/Indiana/Winamac', 'America/Indianapolis', 'America/Inuvik', 'America/Iqaluit', 'America/Jamaica', 'America/Jujuy', 'America/Juneau', 'America/Kentucky/Louisville', 'America/Kentucky/Monticello', 'America/Knox_IN', 'America/Kralendijk', 'America/La_Paz', 'America/Lima', 'America/Los_Angeles', 'America/Louisville', 'America/Lower_Princes', 'America/Maceio', 'America/Managua', 'America/Manaus', 'America/Marigot', 'America/Martinique', 'America/Matamoros', 'America/Mazatlan', 'America/Mendoza', 'America/Menominee', 'America/Merida', 'America/Metlakatla', 'America/Mexico_City', 'America/Miquelon', 'America/Moncton', 'America/Monterrey', 'America/Montevideo', 'America/Montreal', 'America/Montserrat', 'America/Nassau', 'America/New_York', 'America/Nipigon', 'America/Nome', 'America/Noronha', 'America/North_Dakota/Beulah', 'America/North_Dakota/Center', 'America/North_Dakota/New_Salem', 'America/Nuuk', 'America/Ojinaga', 'America/Panama', 'America/Pangnirtung', 'America/Paramaribo', 'America/Phoenix', 'America/Port-au-Prince', 'America/Port_of_Spain', 'America/Porto_Acre', 'America/Porto_Velho', 'America/Puerto_Rico', 'America/Punta_Arenas', 'America/Rainy_River', 'America/Rankin_Inlet', 'America/Recife', 'America/Regina', 'America/Resolute', 'America/Rio_Branco', 'America/Rosario', 'America/Santa_Isabel', 'America/Santarem', 'America/Santiago', 'America/Santo_Domingo', 'America/Sao_Paulo', 'America/Scoresbysund', 'America/Shiprock', 'America/Sitka', 'America/St_Barthelemy', 'America/St_Johns', 'America/St_Kitts', 'America/St_Lucia', 'America/St_Thomas', 'America/St_Vincent', 'America/Swift_Current', 'America/Tegucigalpa', 'America/Thule', 'America/Thunder_Bay', 'America/Tijuana', 'America/Toronto', 'America/Tortola', 'America/Vancouver', 'America/Virgin', 'America/Whitehorse', 'America/Winnipeg', 'America/Yakutat', 'America/Yellowknife', 'Antarctica/Casey', 'Antarctica/Davis', 'Antarctica/DumontDUrville', 'Antarctica/Macquarie', 'Antarctica/Mawson', 'Antarctica/McMurdo', 'Antarctica/Palmer', 'Antarctica/Rothera', 'Antarctica/South_Pole', 'Antarctica/Syowa', 'Antarctica/Troll', 'Antarctica/Vostok', 'Arctic/Longyearbyen', 'Asia/Aden', 'Asia/Almaty', 'Asia/Amman', 'Asia/Anadyr', 'Asia/Aqtau', 'Asia/Aqtobe', 'Asia/Ashgabat', 'Asia/Ashkhabad', 'Asia/Atyrau', 'Asia/Baghdad', 'Asia/Bahrain', 'Asia/Baku', 'Asia/Bangkok', 'Asia/Barnaul', 'Asia/Beirut', 'Asia/Bishkek', 'Asia/Brunei', 'Asia/Calcutta', 'Asia/Chita', 'Asia/Choibalsan', 'Asia/Chongqing', 'Asia/Chungking', 'Asia/Colombo', 'Asia/Dacca', 'Asia/Damascus', 'Asia/Dhaka', 'Asia/Dili', 'Asia/Dubai', 'Asia/Dushanbe', 'Asia/Famagusta', 'Asia/Gaza', 'Asia/Harbin', 'Asia/Hebron', 'Asia/Ho_Chi_Minh', 'Asia/Hong_Kong', 'Asia/Hovd', 'Asia/Irkutsk', 'Asia/Istanbul', 'Asia/Jakarta', 'Asia/Jayapura', 'Asia/Jerusalem', 'Asia/Kabul', 'Asia/Kamchatka', 'Asia/Karachi', 'Asia/Kashgar', 'Asia/Kathmandu', 'Asia/Katmandu', 'Asia/Khandyga', 'Asia/Kolkata', 'Asia/Krasnoyarsk', 'Asia/Kuala_Lumpur', 'Asia/Kuching', 'Asia/Kuwait', 'Asia/Macao', 'Asia/Macau', 'Asia/Magadan', 'Asia/Makassar', 'Asia/Manila', 'Asia/Muscat', 'Asia/Nicosia', 'Asia/Novokuznetsk', 'Asia/Novosibirsk', 'Asia/Omsk', 'Asia/Oral', 'Asia/Phnom_Penh', 'Asia/Pontianak', 'Asia/Pyongyang', 'Asia/Qatar', 'Asia/Qostanay', 'Asia/Qyzylorda', 'Asia/Rangoon', 'Asia/Riyadh', 'Asia/Saigon', 'Asia/Sakhalin', 'Asia/Samarkand', 'Asia/Seoul', 'Asia/Shanghai', 'Asia/Singapore', 'Asia/Srednekolymsk', 'Asia/Taipei', 'Asia/Tashkent', 'Asia/Tbilisi', 'Asia/Tehran', 'Asia/Tel_Aviv', 'Asia/Thimbu', 'Asia/Thimphu', 'Asia/Tokyo', 'Asia/Tomsk', 'Asia/Ujung_Pandang', 'Asia/Ulaanbaatar', 'Asia/Ulan_Bator', 'Asia/Urumqi', 'Asia/Ust-Nera', 'Asia/Vientiane', 'Asia/Vladivostok', 'Asia/Yakutsk', 'Asia/Yangon', 'Asia/Yekaterinburg', 'Asia/Yerevan', 'Atlantic/Azores', 'Atlantic/Bermuda', 'Atlantic/Canary', 'Atlantic/Cape_Verde', 'Atlantic/Faeroe', 'Atlantic/Faroe', 'Atlantic/Jan_Mayen', 'Atlantic/Madeira', 'Atlantic/Reykjavik', 'Atlantic/South_Georgia', 'Atlantic/St_Helena', 'Atlantic/Stanley', 'Australia/ACT', 'Australia/Adelaide', 'Australia/Brisbane', 'Australia/Broken_Hill', 'Australia/Canberra', 'Australia/Currie', 'Australia/Darwin', 'Australia/Eucla', 'Australia/Hobart', 'Australia/LHI', 'Australia/Lindeman', 'Australia/Lord_Howe', 'Australia/Melbourne', 'Australia/NSW', 'Australia/North', 'Australia/Perth', 'Australia/Queensland', 'Australia/South', 'Australia/Sydney', 'Australia/Tasmania', 'Australia/Victoria', 'Australia/West', 'Australia/Yancowinna', 'Brazil/Acre', 'Brazil/DeNoronha', 'Brazil/East', 'Brazil/West', 'CET', 'CST6CDT', 'Canada/Atlantic', 'Canada/Central', 'Canada/Eastern', 'Canada/Mountain', 'Canada/Newfoundland', 'Canada/Pacific', 'Canada/Saskatchewan', 'Canada/Yukon', 'Chile/Continental', 'Chile/EasterIsland', 'Cuba', 'EET', 'EST', 'EST5EDT', 'Egypt', 'Eire', 'Etc/GMT', 'Etc/GMT+0', 'Etc/GMT+1', 'Etc/GMT+10', 'Etc/GMT+11', 'Etc/GMT+12', 'Etc/GMT+2', 'Etc/GMT+3', 'Etc/GMT+4', 'Etc/GMT+5', 'Etc/GMT+6', 'Etc/GMT+7', 'Etc/GMT+8', 'Etc/GMT+9', 'Etc/GMT-0', 'Etc/GMT-1', 'Etc/GMT-10', 'Etc/GMT-11', 'Etc/GMT-12', 'Etc/GMT-13', 'Etc/GMT-14', 'Etc/GMT-2', 'Etc/GMT-3', 'Etc/GMT-4', 'Etc/GMT-5', 'Etc/GMT-6', 'Etc/GMT-7', 'Etc/GMT-8', 'Etc/GMT-9', 'Etc/GMT0', 'Etc/Greenwich', 'Etc/UCT', 'Etc/UTC', 'Etc/Universal', 'Etc/Zulu', 'Europe/Amsterdam', 'Europe/Andorra', 'Europe/Astrakhan', 'Europe/Athens', 'Europe/Belfast', 'Europe/Belgrade', 'Europe/Berlin', 'Europe/Bratislava', 'Europe/Brussels', 'Europe/Bucharest', 'Europe/Budapest', 'Europe/Busingen', 'Europe/Chisinau', 'Europe/Copenhagen', 'Europe/Dublin', 'Europe/Gibraltar', 'Europe/Guernsey', 'Europe/Helsinki', 'Europe/Isle_of_Man', 'Europe/Istanbul', 'Europe/Jersey', 'Europe/Kaliningrad', 'Europe/Kiev', 'Europe/Kirov', 'Europe/Kyiv', 'Europe/Lisbon', 'Europe/Ljubljana', 'Europe/London', 'Europe/Luxembourg', 'Europe/Madrid', 'Europe/Malta', 'Europe/Mariehamn', 'Europe/Minsk', 'Europe/Monaco', 'Europe/Moscow', 'Europe/Nicosia', 'Europe/Oslo', 'Europe/Paris', 'Europe/Podgorica', 'Europe/Prague', 'Europe/Riga', 'Europe/Rome', 'Europe/Samara', 'Europe/San_Marino', 'Europe/Sarajevo', 'Europe/Saratov', 'Europe/Simferopol', 'Europe/Skopje', 'Europe/Sofia', 'Europe/Stockholm', 'Europe/Tallinn', 'Europe/Tirane', 'Europe/Tiraspol', 'Europe/Ulyanovsk', 'Europe/Uzhgorod', 'Europe/Vaduz', 'Europe/Vatican', 'Europe/Vienna', 'Europe/Vilnius', 'Europe/Volgograd', 'Europe/Warsaw', 'Europe/Zagreb', 'Europe/Zaporozhye', 'Europe/Zurich', 'GB', 'GB-Eire', 'GMT', 'GMT+0', 'GMT-0', 'GMT0', 'Greenwich', 'HST', 'Hongkong', 'Iceland', 'Indian/Antananarivo', 'Indian/Chagos', 'Indian/Christmas', 'Indian/Cocos', 'Indian/Comoro', 'Indian/Kerguelen', 'Indian/Mahe', 'Indian/Maldives', 'Indian/Mauritius', 'Indian/Mayotte', 'Indian/Reunion', 'Iran', 'Israel', 'Jamaica', 'Japan', 'Kwajalein', 'Libya', 'MET', 'MST', 'MST7MDT', 'Mexico/BajaNorte', 'Mexico/BajaSur', 'Mexico/General', 'NZ', 'NZ-CHAT', 'Navajo', 'PRC', 'PST8PDT', 'Pacific/Apia', 'Pacific/Auckland', 'Pacific/Bougainville', 'Pacific/Chatham', 'Pacific/Chuuk', 'Pacific/Easter', 'Pacific/Efate', 'Pacific/Enderbury', 'Pacific/Fakaofo', 'Pacific/Fiji', 'Pacific/Funafuti', 'Pacific/Galapagos', 'Pacific/Gambier', 'Pacific/Guadalcanal', 'Pacific/Guam', 'Pacific/Honolulu', 'Pacific/Johnston', 'Pacific/Kanton', 'Pacific/Kiritimati', 'Pacific/Kosrae', 'Pacific/Kwajalein', 'Pacific/Majuro', 'Pacific/Marquesas', 'Pacific/Midway', 'Pacific/Nauru', 'Pacific/Niue', 'Pacific/Norfolk', 'Pacific/Noumea', 'Pacific/Pago_Pago', 'Pacific/Palau', 'Pacific/Pitcairn', 'Pacific/Pohnpei', 'Pacific/Ponape', 'Pacific/Port_Moresby', 'Pacific/Rarotonga', 'Pacific/Saipan', 'Pacific/Samoa', 'Pacific/Tahiti', 'Pacific/Tarawa', 'Pacific/Tongatapu', 'Pacific/Truk', 'Pacific/Wake', 'Pacific/Wallis', 'Pacific/Yap', 'Poland', 'Portugal', 'ROC', 'ROK', 'Singapore', 'Turkey', 'UCT', 'US/Alaska', 'US/Aleutian', 'US/Arizona', 'US/Central', 'US/East-Indiana', 'US/Eastern', 'US/Hawaii', 'US/Indiana-Starke', 'US/Michigan', 'US/Mountain', 'US/Pacific', 'US/Samoa', 'UTC', 'Universal', 'W-SU', 'WET', 'Zulu']\n",
      "Europe/Moscow\n",
      "2024-02-20 05:46:36.173018\n",
      "2024-02-20 09:46:36.173766+04:00\n",
      "Europe/Moscow\n",
      "20.02.2024 08:46 Tuesday, 2, February, AM, 051, 08\n",
      "2024-02-20 14:25:00\n",
      "20.02.2024 14:25\n",
      "2024-02-20 09:46:36.177995+04:00\n"
     ]
    }
   ],
   "source": [
    "import datetime\n",
    "import pytz\n",
    "import zoneinfo\n",
    "\n",
    "\n",
    "if __name__ == '__main__':\n",
    "    # Получение текущей даты/времени\n",
    "    current_datetime = datetime.datetime.now()\n",
    "    print(current_datetime)\n",
    "    print(datetime.datetime.time(current_datetime))  # Получение времени\n",
    "    print(datetime.datetime.date(current_datetime))  # Получение даты\n",
    "\n",
    "    current_date = datetime.date.today()  # Получение даты\n",
    "    my_birthday = datetime.date(1988, 10, 30)  # Объявление своего объекта с датой и временем\n",
    "    \n",
    "    # Разница двух дат\n",
    "    print(current_date - my_birthday)\n",
    "\n",
    "    # Хранение разницы (TimeDelta)\n",
    "    days_30 = datetime.timedelta(days=30)\n",
    "    \n",
    "    # Сложение дат\n",
    "    print(current_date + days_30)\n",
    "\n",
    "    after_30_days = current_date + days_30\n",
    "\n",
    "    # Сравнение дат\n",
    "    if after_30_days > current_date:\n",
    "        print(\"Такого быть не может\")\n",
    "\n",
    "    # Часовые пояса из модуля pytz\n",
    "    print(pytz.all_timezones)\n",
    "    for tz in pytz.all_timezones:\n",
    "        if \"Moscow\" in tz:\n",
    "            print(tz)\n",
    "\n",
    "    # Дата и время по UTC (Гринвич)\n",
    "    print(datetime.datetime.utcnow())\n",
    "    \n",
    "    # Дата и время в Ульяновске\n",
    "    tz_Ulyanovsk = pytz.timezone('Europe/Ulyanovsk')\n",
    "    print(datetime.datetime.now(tz_Ulyanovsk))\n",
    "    \n",
    "    tz_Moscow = pytz.timezone(\"Europe/Moscow\")\n",
    "    nowhere_time = datetime.datetime(2024, 2, 19, 9, 47)\n",
    "    new_now = tz_Moscow.localize(nowhere_time)\n",
    "    print(new_now.tzinfo)\n",
    "\n",
    "    # применение форматирования при выводе даты/времени\n",
    "    print(current_datetime.strftime(\"%d.%m.%Y %H:%M %A, %w, %B, %p, %j, %W\"))\n",
    "\n",
    "    # Получение даты и времени из строки по формату\n",
    "    date_str = \"20.02.2024 14:25\"\n",
    "    date_from_str = datetime.datetime.strptime(date_str, \"%d.%m.%Y %H:%M\")\n",
    "    \n",
    "    # обратное преобразование\n",
    "    print(date_from_str)\n",
    "    print(date_from_str.strftime(\"%d.%m.%Y %H:%M\"))\n",
    "\n",
    "    # встроенный модуль для часовых поясов ZoneInfo\n",
    "    dt = datetime.datetime.now(zoneinfo.ZoneInfo(\"Europe/Ulyanovsk\"))\n",
    "    print(dt)\n"
   ]
  },
  {
   "cell_type": "code",
   "execution_count": 3,
   "id": "714e6a5e",
   "metadata": {},
   "outputs": [],
   "source": [
    "# Работа с календарём, втроенный модуль Calendar"
   ]
  },
  {
   "cell_type": "code",
   "execution_count": 4,
   "id": "a3f1f88a",
   "metadata": {},
   "outputs": [
    {
     "name": "stdout",
     "output_type": "stream",
     "text": [
      "<calendar.Calendar object at 0x7f4c02b125d0>\n",
      "0\n",
      "0\n",
      "1\n",
      "2\n",
      "3\n",
      "4\n",
      "5\n",
      "6\n",
      "7\n",
      "8\n",
      "9\n",
      "10\n",
      "11\n",
      "12\n",
      "13\n",
      "14\n",
      "15\n",
      "16\n",
      "17\n",
      "18\n",
      "19\n",
      "20\n",
      "21\n",
      "22\n",
      "23\n",
      "24\n",
      "25\n",
      "26\n",
      "27\n",
      "28\n",
      "0\n",
      "0\n",
      "0\n",
      "0\n",
      "0\n",
      "   February 2024\n",
      "Th Fr Sa Su Mo Tu We\n",
      " 1  2  3  4  5  6  7\n",
      " 8  9 10 11 12 13 14\n",
      "15 16 17 18 19 20 21\n",
      "22 23 24 25 26 27 28\n",
      "29\n",
      "<table border=\"0\" cellpadding=\"0\" cellspacing=\"0\" class=\"month\">\n",
      "<tr><th colspan=\"7\" class=\"month\">February 2024</th></tr>\n",
      "<tr><th class=\"mon\">Mon</th><th class=\"tue\">Tue</th><th class=\"wed\">Wed</th><th class=\"thu\">Thu</th><th class=\"fri\">Fri</th><th class=\"sat\">Sat</th><th class=\"sun\">Sun</th></tr>\n",
      "<tr><td class=\"noday\">&nbsp;</td><td class=\"noday\">&nbsp;</td><td class=\"noday\">&nbsp;</td><td class=\"thu\">1</td><td class=\"fri\">2</td><td class=\"sat\">3</td><td class=\"sun\">4</td></tr>\n",
      "<tr><td class=\"mon\">5</td><td class=\"tue\">6</td><td class=\"wed\">7</td><td class=\"thu\">8</td><td class=\"fri\">9</td><td class=\"sat\">10</td><td class=\"sun\">11</td></tr>\n",
      "<tr><td class=\"mon\">12</td><td class=\"tue\">13</td><td class=\"wed\">14</td><td class=\"thu\">15</td><td class=\"fri\">16</td><td class=\"sat\">17</td><td class=\"sun\">18</td></tr>\n",
      "<tr><td class=\"mon\">19</td><td class=\"tue\">20</td><td class=\"wed\">21</td><td class=\"thu\">22</td><td class=\"fri\">23</td><td class=\"sat\">24</td><td class=\"sun\">25</td></tr>\n",
      "<tr><td class=\"mon\">26</td><td class=\"tue\">27</td><td class=\"wed\">28</td><td class=\"thu\">29</td><td class=\"noday\">&nbsp;</td><td class=\"noday\">&nbsp;</td><td class=\"noday\">&nbsp;</td></tr>\n",
      "</table>\n",
      "\n"
     ]
    }
   ],
   "source": [
    "import calendar\n",
    "\n",
    "\n",
    "if __name__ == '__main__':\n",
    "    print(calendar.Calendar(0))\n",
    "\n",
    "    # Итерация по дням\n",
    "    for day in calendar.Calendar(0).itermonthdays(2023, 2):\n",
    "        print(day)\n",
    "\n",
    "    # Текстовый календарь\n",
    "    cal = calendar.TextCalendar(3)\n",
    "    cal.prmonth(2024, 2)\n",
    "\n",
    "    # HTML календарь\n",
    "    cal_2 = calendar.HTMLCalendar()\n",
    "    feb = cal_2.formatmonth(2024, 2)\n",
    "    print(feb)\n",
    "\n",
    "    # Сохранение в файл\n",
    "    with open(\"feb.html\", \"w\") as file:\n",
    "        file.write(feb)\n",
    "\n",
    "    # Календарь на год\n",
    "    cal_3 = calendar.HTMLCalendar()\n",
    "    year = cal_3.formatyearpage(2024)\n",
    "    \n",
    "    with open(\"2024.html\", \"wb\") as file:\n",
    "        file.write(year)\n"
   ]
  },
  {
   "cell_type": "code",
   "execution_count": 5,
   "id": "d7272b13",
   "metadata": {},
   "outputs": [],
   "source": [
    "# Регулярные выражения"
   ]
  },
  {
   "cell_type": "code",
   "execution_count": 6,
   "id": "716a8c43",
   "metadata": {},
   "outputs": [
    {
     "name": "stdout",
     "output_type": "stream",
     "text": [
      "<re.Match object; span=(0, 25), match='Привет, мир! Привет, мир!'>\n",
      "[]\n",
      "7\n",
      "['Привет,', 'мир!', 'Привет, мир!']\n",
      "Привет,.мир!.Привет, мир!\n",
      "<re.Match object; span=(0, 25), match='Привет, мир! Привет, мир!'>\n"
     ]
    }
   ],
   "source": [
    "import re\n",
    "\n",
    "if __name__ == '__main__':\n",
    "    txt = \"Привет, мир! Привет, мир!\"\n",
    "    # Поиск по выражению в строке\n",
    "    x = re.search(r\"^Привет.*!$\", txt)\n",
    "    print(x)\n",
    "\n",
    "    # Поиск всех вхождений\n",
    "    x = re.findall(r\"М\", txt)\n",
    "    print(x)\n",
    "\n",
    "    # Вывод первого вхождения\n",
    "    x = re.search(r\"\\s\", txt)\n",
    "    print(x.start())\n",
    "\n",
    "    # Разбить по выражению\n",
    "    x = re.split(r\"\\s\", txt, 2)\n",
    "    print(x)\n",
    "\n",
    "    # Замена подстроки\n",
    "    x = re.sub(r\"\\s\", \".\", txt, 2)\n",
    "    print(x)\n",
    "\n",
    "    # Проверка на соответсвие шаблону\n",
    "    x = re.match(r\"^Привет.*!$\", txt)\n",
    "    print(x)\n"
   ]
  },
  {
   "cell_type": "markdown",
   "id": "e522095f",
   "metadata": {},
   "source": [
    "# Задания для самостоятельного выполнения\n",
    "## Опубликуйте их на публичном репозитории github\n",
    "## Одно задание = один файл\n",
    "\n",
    "### Задание 1\n",
    "Напишите функцию, которая будет принимать дату в строковом формате \n",
    "и возвращать дату на неделю позже.\n",
    "Примечания:\n",
    " - функция и принимает, и возвращает строку\n",
    " - дата должна иметь формат день.месяц.год\n",
    "\n",
    "### Задание 2\n",
    "Напишите функцию, в которую задаётся год в виде числа. \n",
    "Нужно определить, есть ли в этом году пятница, 13-е.\n",
    "Организуйте вывод всех пятниц 13-х в виде списка.\n",
    "\n",
    "### Задание 3\n",
    "Напишите функцию которая принимает datetime, значение аргумента по умолчанию \n",
    "укажите текущуюю дату и время. Фукнция должна вернуть три строки:\n",
    "- количество дней до Нового года\n",
    "- Количество дней до пятницы 13-го (будующей до конца года), при наличии\n",
    "- Количество дней до лета (при наличии), если уже лето, то можно это сообщить.\n",
    "\n"
   ]
  },
  {
   "cell_type": "code",
   "execution_count": null,
   "id": "44eec9e4",
   "metadata": {},
   "outputs": [],
   "source": []
  }
 ],
 "metadata": {
  "kernelspec": {
   "display_name": "Python 3 (ipykernel)",
   "language": "python",
   "name": "python3"
  },
  "language_info": {
   "codemirror_mode": {
    "name": "ipython",
    "version": 3
   },
   "file_extension": ".py",
   "mimetype": "text/x-python",
   "name": "python",
   "nbconvert_exporter": "python",
   "pygments_lexer": "ipython3",
   "version": "3.11.5"
  }
 },
 "nbformat": 4,
 "nbformat_minor": 5
}
