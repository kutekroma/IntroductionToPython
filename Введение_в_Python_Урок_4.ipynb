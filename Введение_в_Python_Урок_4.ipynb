{
 "cells": [
  {
   "cell_type": "code",
   "execution_count": null,
   "id": "c48fe962",
   "metadata": {},
   "outputs": [],
   "source": [
    "# Данные с проверкой типов"
   ]
  },
  {
   "cell_type": "code",
   "execution_count": 1,
   "id": "339e1d82",
   "metadata": {},
   "outputs": [],
   "source": [
    "# NamedTuple - именованный кортеж\n",
    "# Именованные кортежи — такие же кортежи, как и обычные tuple, \n",
    "# но каждый элемент кортежа имеет имя, по которому мы можем к нему обращаться."
   ]
  },
  {
   "cell_type": "code",
   "execution_count": 2,
   "id": "25ec599a",
   "metadata": {},
   "outputs": [
    {
     "name": "stdout",
     "output_type": "stream",
     "text": [
      "Coordinates(latitude=20, longitude=30)\n",
      "20\n",
      "30\n",
      "Широта: 20\n",
      "Долгота: 30\n"
     ]
    }
   ],
   "source": [
    "from typing import NamedTuple\n",
    "\n",
    "\n",
    "class Coordinates(NamedTuple):\n",
    "    latitude: float\n",
    "    longitude: float\n",
    "        \n",
    "\n",
    "def get_coordinates() -> Coordinates:\n",
    "    return Coordinates(20, 30)\n",
    "\n",
    "\n",
    "c = get_coordinates()\n",
    "print(c)\n",
    "print(c.latitude)\n",
    "print(c.longitude)\n",
    "\n",
    "# Поскольку это кортеж, можно использовать распаковку:\n",
    "lat, lon = get_coordinates()\n",
    "print(f\"Широта: {lat}\")\n",
    "print(f\"Долгота: {lon}\")"
   ]
  },
  {
   "cell_type": "code",
   "execution_count": 3,
   "id": "ff83e904",
   "metadata": {},
   "outputs": [],
   "source": [
    "# Словарь с Literal ключами"
   ]
  },
  {
   "cell_type": "code",
   "execution_count": 4,
   "id": "2d417b2f",
   "metadata": {},
   "outputs": [
    {
     "name": "stdout",
     "output_type": "stream",
     "text": [
      "20\n",
      "30\n"
     ]
    }
   ],
   "source": [
    "# Literal позволяет указать не просто какой-то тип вроде str, \n",
    "# а позволяет указать конкретное значение этого типа. \n",
    "# В данном случае у нас ключом может быть либо строка со значением \"longitude\", \n",
    "# либо строка со значением \"latitude\".\n",
    "\n",
    "from typing import Literal\n",
    "\n",
    "\n",
    "def get_coordinates() -> dict[Literal[\"longitude\", \"latitude\"], float]:\n",
    "    return {\"latitude\": 20, \"longitude\": 30}\n",
    "\n",
    "\n",
    "if __name__ == '__main__':\n",
    "    print(get_coordinates()[\"latitude\"])\n",
    "    print(get_coordinates()[\"longitude\"])\n"
   ]
  },
  {
   "cell_type": "code",
   "execution_count": 5,
   "id": "63374570",
   "metadata": {},
   "outputs": [],
   "source": [
    "# TypedDict - типизированный словарь\n",
    "# Нужен при необходимости получать данные как из словаря"
   ]
  },
  {
   "cell_type": "code",
   "execution_count": 6,
   "id": "3e23aaa7",
   "metadata": {},
   "outputs": [
    {
     "name": "stdout",
     "output_type": "stream",
     "text": [
      "40\n"
     ]
    }
   ],
   "source": [
    "from typing import TypedDict\n",
    "\n",
    "\n",
    "class Coordinates(TypedDict):\n",
    "    latitude: float\n",
    "    longitude: float\n",
    "\n",
    "\n",
    "def get_coordinates() -> Coordinates:\n",
    "    return Coordinates(latitude=40, longitude=50)\n",
    "\n",
    "\n",
    "if __name__ == '__main__':\n",
    "    c = get_coordinates()\n",
    "    print(c['latitude'])\n"
   ]
  },
  {
   "cell_type": "code",
   "execution_count": 7,
   "id": "e885e06a",
   "metadata": {},
   "outputs": [],
   "source": [
    "# Dataclass с параметром Frozen\n",
    "# Используется для создания неизменного типа данных"
   ]
  },
  {
   "cell_type": "code",
   "execution_count": 8,
   "id": "7adfb294",
   "metadata": {},
   "outputs": [
    {
     "name": "stdout",
     "output_type": "stream",
     "text": [
      "Latitude: 20\n",
      "Longitude: 30\n"
     ]
    }
   ],
   "source": [
    "from dataclasses import dataclass\n",
    "\n",
    "\n",
    "@dataclass(slots=True, frozen=True)\n",
    "class Coordinates:\n",
    "    latitude: float\n",
    "    longitude: float\n",
    "\n",
    "    def __str__(self):\n",
    "        return (f\"Latitude: {self.latitude}\\n\"\n",
    "                f\"Longitude: {self.longitude}\")\n",
    "\n",
    "\n",
    "def get_coordinates() -> Coordinates:\n",
    "    ...\n",
    "    return Coordinates(20, 30)\n",
    "\n",
    "\n",
    "if __name__ == '__main__':\n",
    "    c = get_coordinates()\n",
    "    # c.longitude = 100  # Изменить не получится\n",
    "    print(c)\n"
   ]
  },
  {
   "cell_type": "code",
   "execution_count": 9,
   "id": "c0d080ba",
   "metadata": {},
   "outputs": [],
   "source": [
    "# Работа с файлами"
   ]
  },
  {
   "cell_type": "code",
   "execution_count": null,
   "id": "910ed6d5",
   "metadata": {},
   "outputs": [],
   "source": [
    "if __name__ == '__main__':\n",
    "    file = open(\"text.txt\", 'r')  # открытие файла на чтение\n",
    "    print(file.read())  # вывод содержимого\n",
    "    file.close()  # Закрытие файла\n",
    "    \n",
    "    file2 = open(\"text2.txt\", \"w\")  # открытие файла на запись\n",
    "    print(file2.closed, file2.name, file2.mode)  # получение информации об открытом файле\n",
    "    file2.write(\"привет\")  # запись в файл\n",
    "    file2.close()\n",
    "    \n",
    "    \n",
    "    # Открытие и закрытие в контекстном менеджере:\n",
    "    a = [\"name1\", \"name2\", \"name3\"]\n",
    "    \n",
    "    with open(\"text3.txt\", \"w\") as file:\n",
    "        [file.write(f\"{index + 1}) {line}\\n\") for index, line in enumerate(a)]\n",
    "        \n",
    "    with open(\"text3.txt\") as file:\n",
    "        print(file.read())"
   ]
  },
  {
   "cell_type": "code",
   "execution_count": null,
   "id": "9271ab69",
   "metadata": {},
   "outputs": [],
   "source": [
    "# Модуль os - работа с операционной системой\n",
    "import os\n",
    "\n",
    "\n",
    "if __name__ == '__main__':\n",
    "    ...\n",
    "    print(os.getcwd())  # Текущая директория\n",
    "    os.chdir(\"/home/eugene\")  # Смена текущей директории\n",
    "    print(os.getcwd())  # Текущая директория\n",
    "    print(os.listdir())  # Список файлов\n",
    "    os.mkdir(\"new folder\")  # Создание директории\n",
    "    print(os.listdir())  # Список файлов\n",
    "    os.chdir(\"new folder\")  # Смена директории\n",
    "    print(f\"{os.path.isdir('.')=}\")  # Проверка является ли директорией\n",
    "    print(f\"{os.path.split(os.getcwd())=}\")  # Разбиение пути\n",
    "    \n",
    "    print(os.name)  # Тип системы\n",
    "    print(os.environ)  # Переменные окружения\n",
    "    print(os.getlogin())  # Имя пользователя\n",
    "    print(os.getpid())  # id процесса\n",
    "    print(os.getenv(\"PATH\"))  # Получение определенной переменной окружения\n",
    "    print(os.getuid())  # uid пользователя\n",
    "    print(os.uname())  # Информация о системе\n",
    "    print(os.access(os.getcwd(), os.W_OK))  # Проверка прав\n",
    "    print(os.access(\"/etc\", os.W_OK))  # Проверка прав\n",
    "    print(os.makedirs(\"new/new1/new2\"))  # Создание директорий с подкаталогами\n",
    "    print(os.removedirs(\"new/new1/new2\"))  # Удаление с подкаталогами\n",
    "    os.system(\"id\")  # Выполнение команды"
   ]
  },
  {
   "cell_type": "code",
   "execution_count": 13,
   "id": "1bc76ebc",
   "metadata": {},
   "outputs": [
    {
     "name": "stdout",
     "output_type": "stream",
     "text": [
      "['/home/eugene/anaconda3/lib/python3.11/site-packages/ipykernel_launcher.py', '-f', '/home/eugene/.local/share/jupyter/runtime/kernel-e321c3fa-ebfd-46ed-ab07-44ad97c04467.json']\n",
      "/home/eugene/anaconda3\n",
      "/home/eugene/anaconda3/bin/python\n",
      "/home/eugene\n",
      "\n",
      "['uid=1000(eugene)', 'gid=1000(eugene)', 'группы=1000(eugene),90(network),98(power),984(users),987(storage),991(lp),994(input),996(audio),998(wheel)\\n']\n"
     ]
    }
   ],
   "source": [
    "# sys, subprocess - ещё системные модули\n",
    "import sys\n",
    "import subprocess\n",
    "\n",
    "\n",
    "if __name__ == '__main__':\n",
    "    print(sys.argv)  # получение аргументов командной строки\n",
    "    print(sys.exec_prefix)  # Путь к окружению запуска\n",
    "    print(sys.executable)  # Путь к бинарному файлу запуска\n",
    "\n",
    "    # Вывод результата выполнения\n",
    "    output = subprocess.check_output(\"ls\")  \n",
    "    \n",
    "    x = subprocess.run(\"pwd\", shell=True, capture_output=True).stdout.decode()\n",
    "    print(x)\n",
    "\n",
    "    with subprocess.Popen([\"id\"], stdout=subprocess.PIPE) as process:\n",
    "        files = process.stdout.read().decode().split(\" \")\n",
    "        print(files)\n",
    "\n",
    "\n"
   ]
  },
  {
   "cell_type": "markdown",
   "id": "aee9ab93",
   "metadata": {},
   "source": [
    "# Задания для самостоятельного выполнения\n",
    "## Опубликуйте их на публичном репозитории github\n",
    "## Одно задание = один файл\n",
    "\n",
    "### Задание 1\n",
    "Запишите в файл с помощью функции write() три столбца: в первый — целые числа от 1 до 100, \n",
    "во второй — их квадраты, в третий — их кубы.\n",
    "Столбцы можно разделить табуляциями ’\\t’ или пробелами ’␣’.\n",
    "\n",
    "### Задание 2\n",
    "Создайте (откройте на запись) текстовый файл «Телефоны.txt». \n",
    "Запишите в него информацию в следующем формате: <<Улица Дом Квартира Номер телефона>>. \n",
    "Данные вводите с клавиатуры. Запрашивайте у пользователя необходимую информацию, \n",
    "пока не введёте 10 номеров. При записи в файл в качестве разделителя между столбцами \n",
    "используйте табуляцию (’\\t’) или пробел (’␣’).\n",
    "\n",
    "### Задание 3\n",
    "Считайте текстовый файл «Телефоны.txt». Найдите в нём любой номер телефона \n",
    "(вводится с клавиатуры) и выведите адрес, по которому расположен этот телефон, на экран.\n",
    "\n"
   ]
  },
  {
   "cell_type": "code",
   "execution_count": null,
   "id": "d83d9e34",
   "metadata": {},
   "outputs": [],
   "source": []
  }
 ],
 "metadata": {
  "kernelspec": {
   "display_name": "Python 3 (ipykernel)",
   "language": "python",
   "name": "python3"
  },
  "language_info": {
   "codemirror_mode": {
    "name": "ipython",
    "version": 3
   },
   "file_extension": ".py",
   "mimetype": "text/x-python",
   "name": "python",
   "nbconvert_exporter": "python",
   "pygments_lexer": "ipython3",
   "version": "3.11.5"
  }
 },
 "nbformat": 4,
 "nbformat_minor": 5
}
