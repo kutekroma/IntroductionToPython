{
 "cells": [
  {
   "cell_type": "code",
   "execution_count": null,
   "id": "7d65eea2",
   "metadata": {},
   "outputs": [],
   "source": [
    "# Классы в Python"
   ]
  },
  {
   "cell_type": "code",
   "execution_count": 1,
   "id": "ce188d04",
   "metadata": {},
   "outputs": [],
   "source": [
    "class Human:\n",
    "    # Параметры класса (переменные внутри класса)\n",
    "    age: int = 10\n",
    "    name: str = \"Vasya\"\n",
    "    \n",
    "    # Методы класса (функции внутри класса)\n",
    "    def increase_age():\n",
    "        age += 1\n",
    "        "
   ]
  },
  {
   "cell_type": "code",
   "execution_count": 2,
   "id": "6650f754",
   "metadata": {},
   "outputs": [
    {
     "name": "stdout",
     "output_type": "stream",
     "text": [
      "10\n"
     ]
    }
   ],
   "source": [
    "class Human:\n",
    "    age: int = 10\n",
    "    name: str = \"Vasya\"\n",
    "    \n",
    "    def increase_age():\n",
    "        age += 1\n",
    "\n",
    "kid = Human()\n",
    "print(kid.age)"
   ]
  },
  {
   "cell_type": "code",
   "execution_count": 3,
   "id": "b1d862f5",
   "metadata": {},
   "outputs": [
    {
     "name": "stdout",
     "output_type": "stream",
     "text": [
      "7\n"
     ]
    }
   ],
   "source": [
    "class Human:\n",
    "    age: int = 10\n",
    "    name: str = \"Vasya\"\n",
    "    \n",
    "    def increase_age():\n",
    "        age += 1\n",
    "\n",
    "kid = Human()\n",
    "kid.age = 7\n",
    "kid.name = \"Petya\"\n",
    "print(kid.age)"
   ]
  },
  {
   "cell_type": "code",
   "execution_count": 7,
   "id": "520f670a",
   "metadata": {},
   "outputs": [
    {
     "name": "stdout",
     "output_type": "stream",
     "text": [
      "Petya\n",
      "Vasya\n"
     ]
    }
   ],
   "source": [
    "class Human:\n",
    "    # Метод init - констурктор класа, \n",
    "    # вызывается при создании экземпляра\n",
    "    def __init__(self, age, name):\n",
    "        self.age = age\n",
    "        self.name = name\n",
    "    \n",
    "    def increase_age(self, years: int = 1):\n",
    "        self.age += years\n",
    "        \n",
    "\n",
    "# Создание экземпляра класса\n",
    "kid = Human(7, \"Petya\")\n",
    "print(kid.name)\n",
    "kid2 = Human(8, \"Vasya\")\n",
    "print(kid2.name)"
   ]
  },
  {
   "cell_type": "code",
   "execution_count": 9,
   "id": "79b73ef2",
   "metadata": {},
   "outputs": [
    {
     "name": "stdout",
     "output_type": "stream",
     "text": [
      "Petya\n",
      "Vasya\n",
      "8\n"
     ]
    }
   ],
   "source": [
    "class Human:\n",
    "    def __init__(self, age, name):\n",
    "        self.age = age\n",
    "        self.name = name\n",
    "    \n",
    "    def increase_age(self, years: int = 1):\n",
    "        self.age += years\n",
    "\n",
    "        \n",
    "        \n",
    "kid = Human(7, \"Petya\")\n",
    "print(kid.name)\n",
    "kid2 = Human(8, \"Vasya\")\n",
    "print(kid2.name)\n",
    "kid.increase_age()\n",
    "print(kid.age)"
   ]
  },
  {
   "cell_type": "code",
   "execution_count": 11,
   "id": "160abd33",
   "metadata": {},
   "outputs": [
    {
     "name": "stdout",
     "output_type": "stream",
     "text": [
      "Student_NAME: Vasya\n",
      "Student_AGE: 18\n",
      "Student_ID: 123\n"
     ]
    }
   ],
   "source": [
    "class Human:\n",
    "    def __init__(self, age, name):\n",
    "        self.age = age\n",
    "        self.name = name\n",
    "    \n",
    "    def increase_age(self, years: int = 1):\n",
    "        self.age += years\n",
    "        \n",
    "\n",
    "# Наследование класса\n",
    "class Student(Human):\n",
    "    def __init__(self, age, name, student_id):\n",
    "        Human.__init__(self, age, name)\n",
    "        self.student_id = student_id\n",
    "        \n",
    "    def student_info(self):\n",
    "        print(f\"Student_NAME: {self.name}\")\n",
    "        print(f\"Student_AGE: {self.age}\")\n",
    "        print(f\"Student_ID: {self.student_id}\")\n",
    "        \n",
    "        \n",
    "student_1 = Student(18, \"Vasya\", 123)\n",
    "student_1.student_info()"
   ]
  },
  {
   "cell_type": "code",
   "execution_count": 1,
   "id": "0e94c157",
   "metadata": {},
   "outputs": [],
   "source": [
    "# Переписывание втроенных идентификаторов в классе\n",
    "class Human:\n",
    "    def __init__(self, age: int, name):\n",
    "        self.age = age\n",
    "        self.name = name\n",
    "    \n",
    "    def increase_age(self, years: int = 1):\n",
    "        self.age += years\n",
    "    \n",
    "    # Строковое представление экземпляра класса str()\n",
    "    def __str__(self):\n",
    "        return f\"Human name: {self.name}, age: {self.age}.\"\n",
    "\n",
    "    # Целочисленное представление экземпляра класса int()\n",
    "    def __int__(self):\n",
    "        return self.age\n",
    "\n",
    "    # Представление экземпляра класса вещественным числом float()\n",
    "    def __float__(self):\n",
    "        return float(self.age)\n",
    "\n",
    "    # Репрезентативный вывод repr()\n",
    "    def __repr__(self):\n",
    "        return f\"Human(age={self.age}, name='{self.name}')\""
   ]
  },
  {
   "cell_type": "code",
   "execution_count": 2,
   "id": "36cc50e6",
   "metadata": {},
   "outputs": [
    {
     "name": "stdout",
     "output_type": "stream",
     "text": [
      "Connected Yandex.ru, 22\n"
     ]
    }
   ],
   "source": [
    "# Создание классовых методов (не требует создания экземпляра)\n",
    "class Database:\n",
    "    @classmethod\n",
    "    def make_connect(cls, srv: str, port: int):\n",
    "        print(f\"Connected {srv}, {port}\")\n",
    "\n",
    "\n",
    "Database.make_connect(srv=\"Yandex.ru\", port=22)"
   ]
  },
  {
   "cell_type": "code",
   "execution_count": 3,
   "id": "302dfc7b",
   "metadata": {},
   "outputs": [
    {
     "name": "stdout",
     "output_type": "stream",
     "text": [
      "Круг радиусa 1\n",
      "Треугольник состоронами 3,5,7\n",
      "Квадрат со сторонами 7x7\n"
     ]
    }
   ],
   "source": [
    "# Создание абстрактного метода (реализуется в наследниках)\n",
    "# За пример спасибо Владимиру Антропову\n",
    "\n",
    "from abc import abstractmethod\n",
    "\n",
    "\n",
    "class Shape:\n",
    "\n",
    "    @abstractmethod\n",
    "    def draw(self): ...\n",
    "\n",
    "\n",
    "class Circle(Shape):\n",
    "    def __init__(self, radius: int):\n",
    "        self.radius = radius\n",
    "\n",
    "    def draw(self):\n",
    "        print(f\"Круг радиусa {self.radius}\")\n",
    "\n",
    "\n",
    "class Square(Shape):\n",
    "    def __init__(self, a: int):\n",
    "        self.a = a\n",
    "\n",
    "    def draw(self):\n",
    "        print(f\"Квадрат со сторонами {self.a}x{self.a}\")\n",
    "\n",
    "\n",
    "class Triangle(Shape):\n",
    "    def __init__(self, a: int, b: int, c: int):\n",
    "        self.a = a\n",
    "        self.b = b\n",
    "        self.c = c\n",
    "\n",
    "    def draw(self):\n",
    "        print(f\"Треугольник состоронами {self.a},{self.b},{self.c}\")\n",
    "\n",
    "\n",
    "x = Shape()\n",
    "x.draw()\n",
    "shapes = list()\n",
    "shapes.append(Circle(1))\n",
    "shapes.append(Triangle(3, 5, 7))\n",
    "shapes.append(Square(7))\n",
    "\n",
    "for a in shapes:\n",
    "    a.draw()\n"
   ]
  },
  {
   "cell_type": "code",
   "execution_count": 4,
   "id": "e3c350a6",
   "metadata": {},
   "outputs": [
    {
     "name": "stdout",
     "output_type": "stream",
     "text": [
      "BMW БМВ\n",
      "LADA Лада\n",
      "GAZ ГАЗ\n"
     ]
    }
   ],
   "source": [
    "# Enumerate - классы для перечисляемых последовательностей\n",
    "# хранит name и value для каждого элемента\n",
    "\n",
    "from enum import Enum\n",
    "\n",
    "\n",
    "class Manufacturers(Enum):\n",
    "    BMW = \"БМВ\"\n",
    "    LADA = \"Лада\"\n",
    "    GAZ = \"ГАЗ\"\n",
    "\n",
    "\n",
    "for m in Manufacturers:\n",
    "    print(m.name, m.value)\n"
   ]
  },
  {
   "cell_type": "code",
   "execution_count": 5,
   "id": "318742da",
   "metadata": {},
   "outputs": [
    {
     "name": "stdout",
     "output_type": "stream",
     "text": [
      "User(id=1, name='Vasya', email='vasya@ya.ru', site=None, cars=[Car(id=1, manufacturer='BMW', model='m3', engine='v8'), Car(id=2, manufacturer='Lada', model='7', engine='v12')])\n",
      "User(id=2, name='Petya', email='petya@ya.ru', site=None, cars=None)\n",
      "User(id=1, name='Vasya', email='vasya@ya.ru', site=None, cars=[Car(id=1, manufacturer='BMW', model='m3', engine='v8'), Car(id=2, manufacturer='Lada', model='7', engine='v12')])\n",
      "[User(id=1, name='Vasya', email='vasya@ya.ru', site=None, cars=[Car(id=1, manufacturer='BMW', model='m3', engine='v8'), Car(id=2, manufacturer='Lada', model='7', engine='v12')]), User(id=2, name='Petya', email='petya@ya.ru', site=None, cars=None)]\n",
      "<class '__main__.User'>\n",
      "[User(id=1, name='Vasya', email='vasya@ya.ru', site=None, cars=[Car(id=1, manufacturer='BMW', model='m3', engine='v8'), Car(id=2, manufacturer='Lada', model='7', engine='v12')]), User(id=2, name='Petya', email='petya@ya.ru', site=None, cars=None)]\n"
     ]
    }
   ],
   "source": [
    "# Датаклассы - используются для создания собственных типов данных\n",
    "\n",
    "from dataclasses import dataclass\n",
    "from typing import Sequence\n",
    "\n",
    "\n",
    "@dataclass\n",
    "class Car:\n",
    "    id: int\n",
    "    manufacturer: str\n",
    "    model: str\n",
    "    engine: str\n",
    "\n",
    "\n",
    "@dataclass\n",
    "class User:\n",
    "    id: int\n",
    "    name: str\n",
    "    email: str\n",
    "    site: str | None = None\n",
    "    cars: list[Car] | None = None\n",
    "\n",
    "    def __str__(self):\n",
    "        return repr(self)\n",
    "\n",
    "\n",
    "# Класс для хранения коллекции\n",
    "class Users:\n",
    "    def __init__(self, users: Sequence[User]):\n",
    "        self._users = users\n",
    "        # self._users = list(users)\n",
    "\n",
    "    def __getitem__(self, key: int) -> User:\n",
    "        return self._users[key]\n",
    "\n",
    "    def __repr__(self):\n",
    "        _out = []\n",
    "        for _user in self._users:\n",
    "            _out.append(_user)\n",
    "        return str(_out)\n",
    "\n",
    "    def __add__(self, new_user: User):\n",
    "        if isinstance(self._users, list):\n",
    "            self._users.append(new_user)\n",
    "            return self._users\n",
    "        else:\n",
    "            raise TypeError\n",
    "        # return Users(self._users + new_user)\n",
    "\n",
    "\n",
    "car_1 = Car(1, \"BMW\", \"m3\", \"v8\")\n",
    "user_1 = User(\n",
    "    id=1,\n",
    "    name=\"Vasya\",\n",
    "    email=\"vasya@ya.ru\",\n",
    "    cars=[\n",
    "        car_1,\n",
    "        Car(2, \"Lada\", \"7\", \"v12\"),\n",
    "    ]\n",
    ")\n",
    "\n",
    "\n",
    "users = Users((\n",
    "    user_1,\n",
    "    User(2, \"Petya\", \"petya@ya.ru\")\n",
    "))\n",
    "\n",
    "for u in users:\n",
    "    print(u)\n",
    "\n",
    "print(users[0])\n",
    "\n",
    "print(users)\n",
    "\n",
    "# Создание объекта на основе repr строки\n",
    "str_user = \"User(id=3, name='Masha', email='masha@ya.ru', site=None, cars=None)\"\n",
    "user_3 = eval(str_user)\n",
    "print(type(user_3))\n",
    "\n",
    "print(users)\n",
    "\n"
   ]
  },
  {
   "cell_type": "markdown",
   "id": "f410be60",
   "metadata": {},
   "source": [
    "# Задания для самостоятельного выполнения\n",
    "## Опубликуйте их на публичном репозитории github\n",
    "## Одно задание = один файл\n",
    "\n",
    "### Задание 1\n",
    "Создайте класс Soda (для определения типа газированной воды), \n",
    "принимающий 1 аргумент при инициализации (отвечающий за добавку к выбираемому лимонаду). \n",
    "В этом классе реализуйте метод show_my_drink(), \n",
    "выводящий на печать Газировка и {ДОБАВКА} в случае наличия добавки, \n",
    "а иначе отобразится следующая фраза: Обычная газировка.\n",
    "\n",
    "### Задание 2\n",
    "Создайте класс TriangleChecker в котором можно проверить, возможно ли из \n",
    "представленных отрезков условной длины сформировать треугольник. \n",
    "На вход приниматются только положительные числа. \n",
    "С помощью метода is_triangle() возвращаются следующие значения (в зависимости от ситуации):\n",
    " - Ура, можно построить треугольник!;\n",
    " - С отрицательными числами ничего не выйдет!;\n",
    " - Нужно вводить только числа!;\n",
    " - Жаль, но из этого треугольник не сделать.\n",
    "\n",
    "### Задание 3\n",
    "Определите класс PiNum, хранящий значение числа Пи и включающий:\n",
    "\n",
    " - конструктор, инициализирующий текущую точность представления числа Пи \n",
    "    создаваемым экземпляром (по умолчанию два знака после запятой);\n",
    " - переопределяемый магический метод __str__, возвращающий строку с текущим \n",
    "    значением числа Пи;\n",
    " - управляемый атрибут max_pi, хранящий значение числа Пи с максимальной точностью \n",
    "    в 13 знаков после запятой и недоступный для изменения или удаления;\n",
    " - метод set_pi_prec, устанавливающий значение атрибута cur_pi экземпляра \n",
    "    для хранения значения числа Пи с текущей точностью \n",
    "    (по умолчанию два знака после запятой).\n",
    "    \n",
    "Используя созданный класс, создайте экземпляр числа Пи с точностью \n",
    "в три знака после запятой и выведите его строковое представление на экран. \n",
    "Измените точность представления числа до пяти знаков после запятой \n",
    "и выведите новое значение на экран. Также выведите на экран значение числа Пи с максимальной точностью.\n",
    "\n",
    "### Задание 4\n",
    "Определите суперкласс Сотрудник, включающий:\n",
    "\n",
    " - конструктор, инициализирующий имя работника, \n",
    "    его должность (по умолчанию None) и оклад (по умолчанию 0);\n",
    " - метод экземпляра для повышения оклада на какую-то часть \n",
    "    (например, на 0.3, т.е. на 30%) с округлением результата до копеек;\n",
    " - магический метод __str__ для перегрузки строкового представления объекта, \n",
    "    который должен выводить данные о работнике в формате 'Атрибут: объект.атрибут' \n",
    "    по одной записи на каждой строке.\n",
    "Также определите подкласс Менеджер, наследующий суперкласс Сотрудник и \n",
    "переопреоделяющий метод повышения оклада таким образом, \n",
    "чтобы он еще больше повышал оклад за счет дополнительного бонуса в виде к\n",
    "акой-то части оклада.\n",
    "Далее:\n",
    " - создайте экземпляр иван_менеджер созданного подкласса с начальным окладом в 1700 рублей;\n",
    " - повысьте сотруднику оклад за счет стандартной надбавки в 0.335 и \n",
    "    бонуса за должность в 0.25;\n",
    " - выведите строковое представление объекта экземпляра с информацией о сотруднике на экран."
   ]
  },
  {
   "cell_type": "code",
   "execution_count": null,
   "id": "f80fbfb2",
   "metadata": {},
   "outputs": [],
   "source": []
  }
 ],
 "metadata": {
  "kernelspec": {
   "display_name": "Python 3 (ipykernel)",
   "language": "python",
   "name": "python3"
  },
  "language_info": {
   "codemirror_mode": {
    "name": "ipython",
    "version": 3
   },
   "file_extension": ".py",
   "mimetype": "text/x-python",
   "name": "python",
   "nbconvert_exporter": "python",
   "pygments_lexer": "ipython3",
   "version": "3.11.5"
  }
 },
 "nbformat": 4,
 "nbformat_minor": 5
}
